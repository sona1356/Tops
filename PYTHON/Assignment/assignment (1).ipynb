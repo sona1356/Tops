{
  "nbformat": 4,
  "nbformat_minor": 0,
  "metadata": {
    "colab": {
      "provenance": []
    },
    "kernelspec": {
      "name": "python3",
      "display_name": "Python 3"
    },
    "language_info": {
      "name": "python"
    }
  },
  "cells": [
    {
      "cell_type": "markdown",
      "source": [
        "(1) What are the types of Applications?"
      ],
      "metadata": {
        "id": "p_Pi6PyqXbPW"
      }
    },
    {
      "cell_type": "markdown",
      "source": [
        "Ans. 1.destop application\n",
        "2.mobile application\n",
        "3.web application\n",
        "4.enterprise application\n",
        "5.cloud application"
      ],
      "metadata": {
        "id": "FS14oM_pXen4"
      }
    },
    {
      "cell_type": "markdown",
      "source": [
        "(2)What is programing?"
      ],
      "metadata": {
        "id": "K8o7Fvv5a3IL"
      }
    },
    {
      "cell_type": "markdown",
      "source": [
        "Ans. Programming, also known as coding or software development, is the process of creating instructions for a computer to follow in order to perform specific tasks."
      ],
      "metadata": {
        "id": "a9r7Xl5nbq5w"
      }
    },
    {
      "cell_type": "markdown",
      "source": [
        "(3)What is Python?"
      ],
      "metadata": {
        "id": "cH0k2fiXcKzQ"
      }
    },
    {
      "cell_type": "markdown",
      "source": [
        "Ans. Python is an interpreted, object-oriented, high-level programming language.its easy to learn and use."
      ],
      "metadata": {
        "id": "EQbfJq8McsU_"
      }
    },
    {
      "cell_type": "markdown",
      "source": [
        "(4)Write a Python program to check if a number is positive, negative or\n",
        "zero.\n"
      ],
      "metadata": {
        "id": "ky8WbsnJdhAV"
      }
    },
    {
      "cell_type": "code",
      "source": [
        "num=int(input(\"enter the number\"))\n",
        "if num>0:\n",
        "    print(f\"(num) is positive\")\n",
        "else:\n",
        "    print(f\"(num)is negative\")\n"
      ],
      "metadata": {
        "colab": {
          "base_uri": "https://localhost:8080/"
        },
        "id": "_zq-9jP0eaIG",
        "outputId": "23aba5b3-6991-49c7-b938-33145cd0bb8f"
      },
      "execution_count": null,
      "outputs": [
        {
          "output_type": "stream",
          "name": "stdout",
          "text": [
            "enter the number5\n",
            "(num) is positive\n"
          ]
        }
      ]
    },
    {
      "cell_type": "markdown",
      "source": [
        "(5)Write a Python program to get the Factorial number of given numbers."
      ],
      "metadata": {
        "id": "7-2hWBVJg4t-"
      }
    },
    {
      "cell_type": "code",
      "source": [
        "num= int(input(\"enter number\"))\n",
        "factorial=1\n",
        "for i in range(1,num+1):\n",
        "  factorial*=i\n",
        "print(f\"the factorial of number {num}is:{factorial}\")"
      ],
      "metadata": {
        "id": "bTWAenOAhCaN",
        "colab": {
          "base_uri": "https://localhost:8080/"
        },
        "outputId": "800de55f-1063-42b0-90bc-74a36ebb91bb"
      },
      "execution_count": null,
      "outputs": [
        {
          "output_type": "stream",
          "name": "stdout",
          "text": [
            "enter number5\n",
            "the factorial of number 5is:120\n"
          ]
        }
      ]
    },
    {
      "cell_type": "markdown",
      "source": [
        "(6) Write a Python program to get the Fibonacci series of given range."
      ],
      "metadata": {
        "id": "czTYMoY7kmaF"
      }
    },
    {
      "cell_type": "code",
      "source": [
        "num= int(input(\"enter nth number of fibonacci series\"))\n",
        "a=0\n",
        "b=1\n",
        "count=0\n",
        "print(f\"fibonancci series upto\",num,\"term\")\n",
        "while count < num:\n",
        "  print(a,end=\" \")\n",
        "  a,b=b,a+b\n",
        "  count+=1"
      ],
      "metadata": {
        "id": "IR-18myHv3Mb",
        "colab": {
          "base_uri": "https://localhost:8080/"
        },
        "outputId": "143d6c6d-44f1-46df-fcec-7a31357be9d1"
      },
      "execution_count": null,
      "outputs": [
        {
          "output_type": "stream",
          "name": "stdout",
          "text": [
            "enter nth number of fibonacci series20\n",
            "fibonancci series upto 20 term\n",
            "0 1 1 2 3 5 8 13 21 34 55 89 144 233 377 610 987 1597 2584 4181 "
          ]
        }
      ]
    },
    {
      "cell_type": "markdown",
      "source": [
        "(7)How memory is managed in Python?"
      ],
      "metadata": {
        "id": "oZYmAbOBk0vG"
      }
    },
    {
      "cell_type": "markdown",
      "source": [
        "Ans. Python manages memory automatically, using a private heap to store data structures and objects."
      ],
      "metadata": {
        "id": "EDSpWCkOlHVx"
      }
    },
    {
      "cell_type": "markdown",
      "source": [
        "(8) What is the purpose continuing statement in python?"
      ],
      "metadata": {
        "id": "BKvG1_7mlXml"
      }
    },
    {
      "cell_type": "markdown",
      "source": [
        "Ans. The continue statement is used to skip the remaining code inside a loop for the current iteration only."
      ],
      "metadata": {
        "id": "EfkNAaF_li-b"
      }
    },
    {
      "cell_type": "markdown",
      "source": [
        "(9)Write python program that swap two number with temp variable and without temp variable."
      ],
      "metadata": {
        "id": "HxiLynVYpHnh"
      }
    },
    {
      "cell_type": "code",
      "source": [
        "a=10\n",
        "b=15\n",
        "print(\"before swapping\")\n",
        "print(\"a=\",a,\",b=\",b)\n",
        "temp=a\n",
        "a=b\n",
        "b=temp\n",
        "print(\"after swapping:\")\n",
        "print(\"a=\",a,\",b=\",b)"
      ],
      "metadata": {
        "id": "iR78WMfeqtPC",
        "colab": {
          "base_uri": "https://localhost:8080/"
        },
        "outputId": "ab79a9b1-ca7f-405d-c36d-c6be55498daf"
      },
      "execution_count": null,
      "outputs": [
        {
          "output_type": "stream",
          "name": "stdout",
          "text": [
            "before swapping\n",
            "a= 10 ,b= 15\n",
            "after swapping:\n",
            "a= 15 ,b= 10\n"
          ]
        }
      ]
    },
    {
      "cell_type": "markdown",
      "source": [
        "(10)Write a Python program to find whether a given number is even or odd, print out an appropriate message to the user."
      ],
      "metadata": {
        "id": "VknYgO3lqjOp"
      }
    },
    {
      "cell_type": "code",
      "source": [
        "num=int(input(\"enter the num\"))\n",
        "print(['even','odd'][num%2])"
      ],
      "metadata": {
        "colab": {
          "base_uri": "https://localhost:8080/"
        },
        "id": "OcUO-JsfqsV_",
        "outputId": "2c36d38c-c5eb-46df-ca3e-bc8684703c86"
      },
      "execution_count": null,
      "outputs": [
        {
          "output_type": "stream",
          "name": "stdout",
          "text": [
            "enter the num20\n",
            "even\n"
          ]
        }
      ]
    },
    {
      "cell_type": "markdown",
      "source": [
        "(11) Write a Python program to test whether a passed letter is a vowel or not."
      ],
      "metadata": {
        "id": "9rlB1wkKtWOn"
      }
    },
    {
      "cell_type": "code",
      "source": [
        "def is_vowel(letter):\n",
        "    vowels = 'aeiouAEIOU'\n",
        "    if letter in vowels:\n",
        "        return True\n",
        "    else:\n",
        "        return False\n",
        "letter = input(\"Enter a letter: \")\n",
        "if is_vowel(letter):\n",
        "    print(f\"{letter} is a vowel.\")\n",
        "else:\n",
        "    print(f\"{letter} is not a vowel.\")"
      ],
      "metadata": {
        "colab": {
          "base_uri": "https://localhost:8080/"
        },
        "id": "xdf2lAgcC-x7",
        "outputId": "dd0b190b-1533-48c7-8d40-dd9aefef6d9e"
      },
      "execution_count": null,
      "outputs": [
        {
          "output_type": "stream",
          "name": "stdout",
          "text": [
            "Enter a letter: a\n",
            "a is a vowel.\n"
          ]
        }
      ]
    },
    {
      "cell_type": "markdown",
      "source": [
        "(12) Write a Python program to sum of three given integers. However, if\n",
        "two values are equal sum will be zero."
      ],
      "metadata": {
        "id": "gwpEMUE0DhMJ"
      }
    },
    {
      "cell_type": "code",
      "source": [
        "def sum_of_integers(a,b,c):\n",
        "  if a==b or b==c or a==c:\n",
        "      return 0\n",
        "  else:\n",
        "    return a+b+c\n",
        "num1=int(input(\"enter first integer:\"))\n",
        "num2=int(input(\"enter second integer:\"))\n",
        "num3=int(input(\"enter third integer\"))\n",
        "\n",
        "i=sum_of_integers(num1,num2,num3)\n",
        "print(\"the i is:\",i)"
      ],
      "metadata": {
        "colab": {
          "base_uri": "https://localhost:8080/"
        },
        "id": "252FdqZJEL8_",
        "outputId": "780f28cc-677c-48b1-a298-6052a563aa7a"
      },
      "execution_count": null,
      "outputs": [
        {
          "output_type": "stream",
          "name": "stdout",
          "text": [
            "enter first integer:4\n",
            "enter second integer:6\n",
            "enter third integer8\n",
            "the i is: 18\n"
          ]
        }
      ]
    },
    {
      "cell_type": "markdown",
      "source": [
        "(13)Write a Python program that will return true if the two given\n",
        "integer values are equal or their sum or difference is 5."
      ],
      "metadata": {
        "id": "2cnUrxJWFEDg"
      }
    },
    {
      "cell_type": "code",
      "source": [
        "def check_values(a,b):\n",
        "  if a==b or abs(a+b)== 5 or abs(a-b)==5:\n",
        "       return True\n",
        "  else:\n",
        "       return False\n",
        "num1=int(input(\"enter first integer:\"))\n",
        "num2=int(input(\"enter second integer:\"))\n",
        "i=check_values(num1,num2)\n",
        "print(\"the i is:\",i)"
      ],
      "metadata": {
        "colab": {
          "base_uri": "https://localhost:8080/"
        },
        "id": "eHyWA90GFHH6",
        "outputId": "f034b0f3-4e62-4445-9030-3ad188e5c324"
      },
      "execution_count": null,
      "outputs": [
        {
          "output_type": "stream",
          "name": "stdout",
          "text": [
            "enter first integer:5\n",
            "enter second integer:5\n",
            "the i is: True\n"
          ]
        }
      ]
    },
    {
      "cell_type": "markdown",
      "source": [
        "(14)Write a python program to sum of the first n positive integers."
      ],
      "metadata": {
        "id": "uQy1HkuEFXsx"
      }
    },
    {
      "cell_type": "code",
      "source": [
        "n=int(input(\"enter num:\"))\n",
        "sum=(n+(n+1))/2\n",
        "print(sum)"
      ],
      "metadata": {
        "colab": {
          "base_uri": "https://localhost:8080/"
        },
        "id": "z9OwryF7FjI9",
        "outputId": "a80ce613-adc2-4145-e61a-0f14be97fecd"
      },
      "execution_count": null,
      "outputs": [
        {
          "output_type": "stream",
          "name": "stdout",
          "text": [
            "enter num:8\n",
            "8.5\n"
          ]
        }
      ]
    },
    {
      "cell_type": "markdown",
      "source": [
        "(15)Write a Python program to calculate the length of a string."
      ],
      "metadata": {
        "id": "-fOeyog-G0NC"
      }
    },
    {
      "cell_type": "code",
      "source": [
        "str=input(\"enter string:\")\n",
        "print(len(str))\n"
      ],
      "metadata": {
        "colab": {
          "base_uri": "https://localhost:8080/"
        },
        "id": "P_Nr1DnjG7o9",
        "outputId": "aac86980-027e-4578-de1c-c1ad6bd0ffcf"
      },
      "execution_count": null,
      "outputs": [
        {
          "output_type": "stream",
          "name": "stdout",
          "text": [
            "enter string:hii sona\n",
            "8\n"
          ]
        }
      ]
    },
    {
      "cell_type": "markdown",
      "source": [
        "(16)Write a Python program to count the number of characters\n",
        "(character frequency) in a string"
      ],
      "metadata": {
        "id": "QQTmgOs0Hatg"
      }
    },
    {
      "cell_type": "code",
      "source": [
        "def char_frequency(s):\n",
        "    freq = {}\n",
        "    for char in s:\n",
        "        freq[char] = freq.get(char, 0) + 1\n",
        "    return freq\n",
        "\n",
        "text = \"hello world\"\n",
        "print(char_frequency(text))"
      ],
      "metadata": {
        "colab": {
          "base_uri": "https://localhost:8080/"
        },
        "id": "f_jB8voRFBrv",
        "outputId": "c6b26a86-166f-4e9e-af44-27dd7c643c0e"
      },
      "execution_count": null,
      "outputs": [
        {
          "output_type": "stream",
          "name": "stdout",
          "text": [
            "{'h': 1, 'e': 1, 'l': 3, 'o': 2, ' ': 1, 'w': 1, 'r': 1, 'd': 1}\n"
          ]
        }
      ]
    },
    {
      "cell_type": "markdown",
      "source": [
        "(17)What are negative indexes and why are they used?"
      ],
      "metadata": {
        "id": "jglQHdi_Lffo"
      }
    },
    {
      "cell_type": "markdown",
      "source": [
        "->Negative indexes in python allow access to elements from the end of a sequence, with -1 referring to the last element.\n",
        "\n",
        "used of negative indexes\n",
        "\n",
        "-> negative indexes are used to access elements from the end of a sequence conveniently,without needing to know its length"
      ],
      "metadata": {
        "id": "rvETDh6PMdCe"
      }
    },
    {
      "cell_type": "markdown",
      "source": [
        "(18))Write a Python program to count occurrences of a substring in a string."
      ],
      "metadata": {
        "id": "Eq2HSzfQL2Vi"
      }
    },
    {
      "cell_type": "code",
      "source": [
        "text = \"hello sona, sona say everyone\"\n",
        "substring = \"sona\"\n",
        "\n",
        "count = text.count(substring)\n",
        "print(f\"The substring '{substring}' appears {count} times.\")"
      ],
      "metadata": {
        "colab": {
          "base_uri": "https://localhost:8080/"
        },
        "id": "QVQ7ho0mNBSn",
        "outputId": "18188dd6-f6f5-4007-87f4-f96aa90a6730"
      },
      "execution_count": null,
      "outputs": [
        {
          "output_type": "stream",
          "name": "stdout",
          "text": [
            "The substring 'sona' appears 2 times.\n"
          ]
        }
      ]
    },
    {
      "cell_type": "markdown",
      "source": [
        "(19)Write a Python program to count the occurrences of each word in a given sentence."
      ],
      "metadata": {
        "id": "U_Ohmwn_Ndto"
      }
    },
    {
      "cell_type": "code",
      "source": [
        "def count_word_occurrences(sentence):\n",
        "    words = sentence.lower().split()\n",
        "    word_counts = {}\n",
        "\n",
        "    for word in words:\n",
        "        word = ''.join(char for char in word if char.isalnum())\n",
        "        if word:\n",
        "            word_counts[word] = word_counts.get(word, 0) + 1\n",
        "\n",
        "    return word_counts\n",
        "\n",
        "\n",
        "sentence = input(\"Enter a sentence: \")\n",
        "counts = count_word_occurrences(sentence)\n",
        "\n",
        "for word, count in counts.items():\n",
        "    print(f\"{word}: {count}\")\n"
      ],
      "metadata": {
        "id": "8ZjJSgoq0hy8",
        "colab": {
          "base_uri": "https://localhost:8080/"
        },
        "outputId": "d90f6db3-a3b2-4ee1-91e6-f56414535b63"
      },
      "execution_count": 70,
      "outputs": [
        {
          "output_type": "stream",
          "name": "stdout",
          "text": [
            "Enter a sentence: 78\n",
            "78: 1\n"
          ]
        }
      ]
    },
    {
      "cell_type": "markdown",
      "source": [
        "(20)Write a Python program to get a single string from two given strings,\n",
        "separated by a space and swap the first two characters of each string.\n"
      ],
      "metadata": {
        "id": "yO_-9JjwOM3o"
      }
    },
    {
      "cell_type": "code",
      "source": [
        "def strings(str1,str2):\n",
        "  string=str1 + str2\n",
        "  return string\n",
        "  str1=input(\"enter the first string:\")\n",
        "  str2=input(\"enter the second string:\")\n",
        "\n",
        "  result=strings(str1,str2)\n",
        "  print(\"the string is:\",result)"
      ],
      "metadata": {
        "id": "rhd21v0uOVBl"
      },
      "execution_count": null,
      "outputs": []
    },
    {
      "cell_type": "markdown",
      "source": [
        "(21)Write a Python program to add 'in' at the end of a given string (length\n",
        "should be at least 3). If the given string already ends with 'ing' then\n",
        "add 'ly' instead if the string length of the given string is less than 3,\n",
        "leave it unchanged."
      ],
      "metadata": {
        "id": "imuqkYmQPXxh"
      }
    },
    {
      "cell_type": "code",
      "source": [
        "def modify_string(s):\n",
        "  if len(s)<3:\n",
        "    return s\n",
        "  elif s.endswith('ing'):\n",
        "    return s+ 'ly'\n",
        "  else:\n",
        "    return s+'ing'\n",
        "print(modify_string(\"play\"))\n",
        "print(modify_string(\"playing\"))\n",
        "print(modify_string(\"go\"))"
      ],
      "metadata": {
        "id": "D1KvLIadPgVE",
        "colab": {
          "base_uri": "https://localhost:8080/"
        },
        "outputId": "b6d0102f-db98-4980-a2d4-c331b795035e"
      },
      "execution_count": null,
      "outputs": [
        {
          "output_type": "stream",
          "name": "stdout",
          "text": [
            "playing\n",
            "playingly\n",
            "go\n"
          ]
        }
      ]
    },
    {
      "cell_type": "markdown",
      "source": [
        "(22)Write a Python function to reverses a string if its length is a multiple\n",
        "of 4."
      ],
      "metadata": {
        "id": "JDWnq2fPP201"
      }
    },
    {
      "cell_type": "code",
      "source": [
        "def reverse_string_if_multiple_of_4(s):\n",
        "  if len(s)%4==0:\n",
        "    return s[::-1]\n",
        "  else:\n",
        "    return s\n",
        "user_input=input(\"enter a string:\")\n",
        "result=reverse_string_if_multiple_of_4(user_input)\n",
        "print(\"result:\",result)"
      ],
      "metadata": {
        "colab": {
          "base_uri": "https://localhost:8080/"
        },
        "id": "dEceMsq9P-GP",
        "outputId": "b7639ed0-b091-47f4-b2c7-67e77bcf2cd8"
      },
      "execution_count": null,
      "outputs": [
        {
          "output_type": "stream",
          "name": "stdout",
          "text": [
            "enter a string:sona\n",
            "result: anos\n"
          ]
        }
      ]
    },
    {
      "cell_type": "markdown",
      "source": [
        "(23)Write a Python program to get a string made of the first 2 and the last\n",
        "2 chars from a given a string. If the string length is less than 2, return\n",
        "instead of the empty string."
      ],
      "metadata": {
        "id": "CaC5BfaBQXC_"
      }
    },
    {
      "cell_type": "code",
      "source": [
        "def create_new_string(s):\n",
        "\n",
        "  if len(s)<2:\n",
        "    return ''\n",
        "  else:\n",
        "    return s[:2]+s[-2:]\n",
        "user_input=input(\"enter a string:\")\n",
        "result=create_new_string(user_input)\n",
        "print(\"result:\",result)"
      ],
      "metadata": {
        "colab": {
          "base_uri": "https://localhost:8080/"
        },
        "id": "xQ6npmvvRkyi",
        "outputId": "ecabaf3c-cb7a-4add-ecdb-2eb25fdd074a"
      },
      "execution_count": null,
      "outputs": [
        {
          "output_type": "stream",
          "name": "stdout",
          "text": [
            "enter a string:hello sina\n",
            "result: hena\n"
          ]
        }
      ]
    },
    {
      "cell_type": "markdown",
      "source": [
        "(24)Write a Python function to insert a string in the middle of a string"
      ],
      "metadata": {
        "id": "w0t0TnCJR_lT"
      }
    },
    {
      "cell_type": "code",
      "source": [
        "def insert_in_middle(original, insert):\n",
        "    return original[:len(original)//2] + insert + original[len(original)//2:]\n"
      ],
      "metadata": {
        "id": "yJx0yFPcTsAs"
      },
      "execution_count": null,
      "outputs": []
    },
    {
      "cell_type": "markdown",
      "source": [
        "(25)What is List? How will you reverse a list?"
      ],
      "metadata": {
        "id": "RrrFRui3UPFk"
      }
    },
    {
      "cell_type": "markdown",
      "source": [
        "A list in python is an ordered,mutable collection of items that can contain elements of different data types.\n"
      ],
      "metadata": {
        "id": "5r8qb_N7VDC2"
      }
    },
    {
      "cell_type": "code",
      "source": [
        "\n",
        "list=[1,2,3,4,5,6,7]\n",
        "list.reverse()\n",
        "print(list)"
      ],
      "metadata": {
        "colab": {
          "base_uri": "https://localhost:8080/"
        },
        "id": "AkpcTckDVdJo",
        "outputId": "d3e05f70-c9bc-47f0-bfec-f17c4d65b4c7"
      },
      "execution_count": null,
      "outputs": [
        {
          "output_type": "stream",
          "name": "stdout",
          "text": [
            "[7, 6, 5, 4, 3, 2, 1]\n"
          ]
        }
      ]
    },
    {
      "cell_type": "markdown",
      "source": [
        "(26)How will you remove last object from a list?"
      ],
      "metadata": {
        "id": "Y1n8nQcBVpUQ"
      }
    },
    {
      "cell_type": "code",
      "source": [
        "list=[1,2,3,4,5,6,7]\n",
        "list.pop()\n",
        "print(list)"
      ],
      "metadata": {
        "colab": {
          "base_uri": "https://localhost:8080/"
        },
        "id": "9QIQycswWANu",
        "outputId": "13d67038-e14e-4aec-e062-86738da45559"
      },
      "execution_count": null,
      "outputs": [
        {
          "output_type": "stream",
          "name": "stdout",
          "text": [
            "[1, 2, 3, 4, 5, 6]\n"
          ]
        }
      ]
    },
    {
      "cell_type": "markdown",
      "source": [
        "(27)Suppose list1 is [2, 33, 222, 14, and 25], what is list1 [-\n",
        "1]?"
      ],
      "metadata": {
        "id": "kmT9O1AjWNBI"
      }
    },
    {
      "cell_type": "code",
      "source": [
        "list= [2, 33, 222, 14,25]\n",
        "print(list[-1])"
      ],
      "metadata": {
        "colab": {
          "base_uri": "https://localhost:8080/"
        },
        "id": "rvLobQxtWXeA",
        "outputId": "228557de-a56e-4b3c-d4b2-cad35fa48cd3"
      },
      "execution_count": null,
      "outputs": [
        {
          "output_type": "stream",
          "name": "stdout",
          "text": [
            "25\n"
          ]
        }
      ]
    },
    {
      "cell_type": "markdown",
      "source": [
        "(28)Differentiate between append () and extend () methods?"
      ],
      "metadata": {
        "id": "cacrn8ufWyz7"
      }
    },
    {
      "cell_type": "markdown",
      "source": [
        "append()-adds a single element to the end of the list.if you append a list,it will be added a single nested eliment."
      ],
      "metadata": {
        "id": "5H6iy280X-Hd"
      }
    },
    {
      "cell_type": "code",
      "source": [
        "list=[1,2,3,4]\n",
        "list.append([5,6])\n",
        "print(list)"
      ],
      "metadata": {
        "colab": {
          "base_uri": "https://localhost:8080/"
        },
        "id": "lWardNcbYalA",
        "outputId": "5dd85e95-4fd8-4a5a-de31-89d5050ffaad"
      },
      "execution_count": null,
      "outputs": [
        {
          "output_type": "stream",
          "name": "stdout",
          "text": [
            "[1, 2, 3, 4, [5, 6]]\n"
          ]
        }
      ]
    },
    {
      "cell_type": "markdown",
      "source": [
        "extend()-add each element of the iterble to the list individually,effectivly merging the contents"
      ],
      "metadata": {
        "id": "vuWSvXpeY0kH"
      }
    },
    {
      "cell_type": "code",
      "source": [
        "list=[1,2,3,4]\n",
        "list.extend([5,6])\n",
        "print(list)\n"
      ],
      "metadata": {
        "colab": {
          "base_uri": "https://localhost:8080/"
        },
        "id": "LhNo1YEBZYLf",
        "outputId": "47756ef6-3ce1-48cf-de00-4f2c55b21164"
      },
      "execution_count": null,
      "outputs": [
        {
          "output_type": "stream",
          "name": "stdout",
          "text": [
            "[1, 2, 3, 4, 5, 6]\n"
          ]
        }
      ]
    },
    {
      "cell_type": "markdown",
      "source": [
        "(29)Write a Python function to get the largest number, smallest num\n",
        "and sum of all from a list.\n"
      ],
      "metadata": {
        "id": "03KsIXcwZkUA"
      }
    },
    {
      "cell_type": "code",
      "source": [
        "def list_statistics(numbers):\n",
        "  if not numbers:\n",
        "    return \"the list is empty.\"\n",
        "  largest=max(numbers)\n",
        "  smallest =min(numbers)\n",
        "  total_sum=sum(numbers)\n",
        "\n",
        "  return largest,smallest,total_sum\n",
        "  numbers=[10,5,20,8,15]\n",
        "  largest,smallest,total_sum=list_statistics(numbers)\n",
        "  print(\"largest number:\",largest)\n",
        "  print(\"smallest number:\",smallest)\n",
        "  print(\"sum of all numbers:\",total_sum)"
      ],
      "metadata": {
        "id": "P3MYZNJoqiHq"
      },
      "execution_count": null,
      "outputs": []
    },
    {
      "cell_type": "markdown",
      "source": [
        "(30)How will you compare two lists?"
      ],
      "metadata": {
        "id": "cHDEItCbclKo"
      }
    },
    {
      "cell_type": "markdown",
      "source": [
        "compare two lists directly using the equality operator ==. This checks if both lists have the same elements in the same order."
      ],
      "metadata": {
        "id": "QhN1httKeAu0"
      }
    },
    {
      "cell_type": "code",
      "source": [
        "list1=[1,2,3,4,5]\n",
        "list2=[1,2,3,4,5]\n",
        "list3=[4,5,6,7,8]\n",
        "print(list1 == list2)\n",
        "print(list1 == list3)"
      ],
      "metadata": {
        "colab": {
          "base_uri": "https://localhost:8080/"
        },
        "id": "hAG69YBDcqFy",
        "outputId": "51817941-7a40-4c4d-9904-6cba48f95094"
      },
      "execution_count": null,
      "outputs": [
        {
          "output_type": "stream",
          "name": "stdout",
          "text": [
            "True\n",
            "False\n"
          ]
        }
      ]
    },
    {
      "cell_type": "markdown",
      "source": [
        "(31)Write a Python program to count the number of strings where the string\n",
        "length is 2 or more and the first and last character are same from a given list\n",
        "of strings."
      ],
      "metadata": {
        "id": "OsU9b1_-rg2U"
      }
    },
    {
      "cell_type": "code",
      "source": [
        "def count_special_strings(strings):\n",
        "  count=0\n",
        "  for s in strings:\n",
        "    if len(s)>=2 and s[0]==s[-1]:\n",
        "     count+=1\n",
        "     return count\n",
        "     string_list=['abc','xyz','aba','1221','hello','a']\n",
        "     result=count_special_strings(strings)\n",
        "      print(f\"num of strings meeting the criteria is:{result}\")"
      ],
      "metadata": {
        "id": "LPYqK0A4rkEm",
        "colab": {
          "base_uri": "https://localhost:8080/",
          "height": 106
        },
        "outputId": "9291d44c-ab77-4ee0-8376-a66beaa69d31"
      },
      "execution_count": null,
      "outputs": [
        {
          "output_type": "error",
          "ename": "IndentationError",
          "evalue": "unexpected indent (<ipython-input-7-7f792fb78dd8>, line 9)",
          "traceback": [
            "\u001b[0;36m  File \u001b[0;32m\"<ipython-input-7-7f792fb78dd8>\"\u001b[0;36m, line \u001b[0;32m9\u001b[0m\n\u001b[0;31m    print(f\"num of strings meeting the criteria is:{result}\")\u001b[0m\n\u001b[0m    ^\u001b[0m\n\u001b[0;31mIndentationError\u001b[0m\u001b[0;31m:\u001b[0m unexpected indent\n"
          ]
        }
      ]
    },
    {
      "cell_type": "markdown",
      "source": [
        "(32)Write a Python program to remove duplicates from a list."
      ],
      "metadata": {
        "id": "PS8BOxQN1edw"
      }
    },
    {
      "cell_type": "code",
      "source": [
        "def remove_duplicates(input_list):\n",
        "    return list(set(input_list))\n",
        "my_list = [1, 2, 3, 4, 4, 5, 6, 6, 7]\n",
        "print(\"Original list:\", my_list)\n",
        "new_list = remove_duplicates(my_list)\n",
        "print(\"List after removing duplicates:\", new_list)\n"
      ],
      "metadata": {
        "colab": {
          "base_uri": "https://localhost:8080/"
        },
        "id": "2fo-k4D22AEw",
        "outputId": "58479f8e-c4be-4bf7-dd4b-55450c6e5043"
      },
      "execution_count": null,
      "outputs": [
        {
          "output_type": "stream",
          "name": "stdout",
          "text": [
            "Original list: [1, 2, 3, 4, 4, 5, 6, 6, 7]\n",
            "List after removing duplicates: [1, 2, 3, 4, 5, 6, 7]\n"
          ]
        }
      ]
    },
    {
      "cell_type": "markdown",
      "source": [],
      "metadata": {
        "id": "QBUR-zc6R2Wo"
      }
    },
    {
      "cell_type": "markdown",
      "source": [
        "(33)Write a Python program to check a list is empty or not."
      ],
      "metadata": {
        "id": "5nLbwnbD2-SS"
      }
    },
    {
      "cell_type": "code",
      "source": [
        "def is_list_empty(input_list):\n",
        "   if not input_list:\n",
        "     return True\n",
        "   else:\n",
        "     return False\n",
        "test_list=[]\n",
        "result=is_list_empty(test_list)\n",
        "\n",
        "if result:\n",
        "  print(\"the list is empty.\")\n",
        "else:\n",
        "  print(\"the list is not empty.\")"
      ],
      "metadata": {
        "id": "gY7T5lbRa7dW"
      },
      "execution_count": null,
      "outputs": []
    },
    {
      "cell_type": "markdown",
      "source": [
        "(34)Write a Python function that takes two lists and returns true if they\n",
        "have at least one common member."
      ],
      "metadata": {
        "id": "gZkzbO0d2k2t"
      }
    },
    {
      "cell_type": "code",
      "source": [
        "def have_common_member(list1,list2):\n",
        "  for item in list1:\n",
        "     return True\n",
        "  return False\n",
        "  list1=[1,2,3]\n",
        "  list2=[4,5,6]\n",
        "  print(have_common_member(list1,list2))\n",
        "  list3=[7,8,9]\n",
        "  list4=[9,10,11]\n",
        "  print(have_common_member(list3,list4))\n"
      ],
      "metadata": {
        "id": "8sJvV9Vg3W2F"
      },
      "execution_count": null,
      "outputs": []
    },
    {
      "cell_type": "markdown",
      "source": [
        "(35)Write a Python program to generate and print a list of first & last 5\n",
        "elements where the values are square of numbers between 1  & 30."
      ],
      "metadata": {
        "id": "YIRrZ1Dd4UWB"
      }
    },
    {
      "cell_type": "code",
      "source": [
        "def generate_squares():\n",
        "     squares=[x**2 for x in range(1,31)]\n",
        "     result=squares[:5]+squares[-5:]\n",
        "print(\"list of first and last 5 elements:\",generate_squares())"
      ],
      "metadata": {
        "colab": {
          "base_uri": "https://localhost:8080/"
        },
        "id": "LlCMkZGy4a79",
        "outputId": "281403d2-1663-425c-f4b6-de5e5f183b3d"
      },
      "execution_count": null,
      "outputs": [
        {
          "output_type": "stream",
          "name": "stdout",
          "text": [
            "list of first and last 5 elements: None\n"
          ]
        }
      ]
    },
    {
      "cell_type": "markdown",
      "source": [
        "(36)Write a Python function that takes a list and returns a new list with\n",
        "unique elements of the first list."
      ],
      "metadata": {
        "id": "NzpjL_JW5VIv"
      }
    },
    {
      "cell_type": "code",
      "source": [
        "def get_unique_elements(lst):\n",
        "  return list(set(lst))\n",
        "original_list=[1,2,2,3,4,4,5,6,6]\n",
        "unique_list=get_unique_elements(original_list)\n",
        "print(\"original list:\",original_list)\n",
        "print(\"unique elements:\",unique_list)"
      ],
      "metadata": {
        "id": "B72ienf45Wss",
        "colab": {
          "base_uri": "https://localhost:8080/"
        },
        "outputId": "6b96f3e5-e2a3-4fdd-f8a2-abc917c77666"
      },
      "execution_count": null,
      "outputs": [
        {
          "output_type": "stream",
          "name": "stdout",
          "text": [
            "original list: [1, 2, 2, 3, 4, 4, 5, 6, 6]\n",
            "unique elements: [1, 2, 3, 4, 5, 6]\n"
          ]
        }
      ]
    },
    {
      "cell_type": "markdown",
      "source": [
        "(37)Write a Python program to convert a list of characters into a string."
      ],
      "metadata": {
        "id": "60c8vQcj4uK4"
      }
    },
    {
      "cell_type": "code",
      "source": [
        "def list_to_string(char_list):\n",
        "  result=''.join(char_list)\n",
        "  return result\n",
        "char_list=['H','e','l','l','o']\n",
        "result=list_to_string(char_list)\n",
        "print(\"the string is:\",result)\n"
      ],
      "metadata": {
        "colab": {
          "base_uri": "https://localhost:8080/"
        },
        "id": "KQvpTg9M5FtS",
        "outputId": "e5fc5350-f15c-4e46-d5a0-1f925ef79b9d"
      },
      "execution_count": null,
      "outputs": [
        {
          "output_type": "stream",
          "name": "stdout",
          "text": [
            "the string is: Hello\n"
          ]
        }
      ]
    },
    {
      "cell_type": "markdown",
      "source": [
        "(38)Write a Python program to select an item randomly from a list.\n"
      ],
      "metadata": {
        "id": "Z2lIrC6y5Ox_"
      }
    },
    {
      "cell_type": "code",
      "source": [
        "import random\n",
        "def select_random_item(input_list):\n",
        "     return random.choice(input_list)\n",
        "my_list=[1,2,3,4,5,6,7]\n",
        "random_item=select_random_item(my_list)\n",
        "print(\"randomy selected item:\",random_item)\n"
      ],
      "metadata": {
        "id": "FlojdIQc5opY"
      },
      "execution_count": null,
      "outputs": []
    },
    {
      "cell_type": "code",
      "source": [
        "(39)Write a Python program to find the second smallest number in a list."
      ],
      "metadata": {
        "id": "gS1E2TJU65rj"
      },
      "execution_count": null,
      "outputs": []
    },
    {
      "cell_type": "code",
      "source": [
        "def  find_second_smallest(numbers):\n",
        "  unique_numbers=list(set(numbers))\n",
        "  if len(unique_numbers)<2:\n",
        "    return None\n",
        "  unique_numbers.sort()\n",
        "  return unique_numbers[1]\n",
        "numbers=[2,33,222,14,25]\n",
        "second_smallest=find_second_smallest(numbers)\n",
        "if second_smallest is not None:\n",
        "  print(f\"second smallest number is:{second_smallest}\")\n",
        "else:\n",
        "  print(\"there are not enough unique numbers to find the second smallest.\")"
      ],
      "metadata": {
        "colab": {
          "base_uri": "https://localhost:8080/"
        },
        "id": "ghUR5sSn7RI8",
        "outputId": "122d2288-b990-4cff-b6e2-087755531b2c"
      },
      "execution_count": null,
      "outputs": [
        {
          "output_type": "stream",
          "name": "stdout",
          "text": [
            "second smallest number is:14\n"
          ]
        }
      ]
    },
    {
      "cell_type": "markdown",
      "source": [
        "(40)Write a Python program to get unique values from a list"
      ],
      "metadata": {
        "id": "2yfULsgb7c4p"
      }
    },
    {
      "cell_type": "code",
      "source": [
        "def get_unique_values(arr):\n",
        "  return list(set(arr))\n",
        "arr=[1,2,3,4,2,3,4,1]\n",
        "unique_values=get_unique_values(arr)\n",
        "print(\"unique values:\",unique_values)"
      ],
      "metadata": {
        "colab": {
          "base_uri": "https://localhost:8080/"
        },
        "id": "tGrAsRaz7kH4",
        "outputId": "445cc2d7-8253-4d61-a099-58c5f3960fa3"
      },
      "execution_count": null,
      "outputs": [
        {
          "output_type": "stream",
          "name": "stdout",
          "text": [
            "unique values: [1, 2, 3, 4]\n"
          ]
        }
      ]
    },
    {
      "cell_type": "markdown",
      "source": [
        "(41))Write a Python program to check whether a list contains a sub list"
      ],
      "metadata": {
        "id": "OaddRzjk7tSv"
      }
    },
    {
      "cell_type": "code",
      "source": [
        "main_list=[10,20,30,40,50]\n",
        "sub_list=[30,40]\n",
        "def contains_sublist(main_list,sub_list):\n",
        "  if not sub_list:\n",
        "    return True\n",
        "  for i in range(len(main_list)-len(sub_list)+1):\n",
        "    if main_list[i:i+len(sub_list)]==sub_list:\n",
        "       return True\n",
        "       return False\n",
        "if contains_sublist(main_list,sub_list):\n",
        "  print(f\"sublist{sub_list} is found in the main list {main_list}.\")\n",
        "else:\n",
        "  print(f\"sublist {sub_list} is not found in the main list{main_list}.\")\n"
      ],
      "metadata": {
        "colab": {
          "base_uri": "https://localhost:8080/"
        },
        "id": "xjM4GlVc8PEN",
        "outputId": "67c04cb6-a67d-42f8-e10e-c5daca11b09a"
      },
      "execution_count": null,
      "outputs": [
        {
          "output_type": "stream",
          "name": "stdout",
          "text": [
            "sublist[30, 40] is found in the main list [10, 20, 30, 40, 50].\n"
          ]
        }
      ]
    },
    {
      "cell_type": "markdown",
      "source": [
        "(42)Write a Python program to split a list into different variables."
      ],
      "metadata": {
        "id": "e8dv-Xsu8d0S"
      }
    },
    {
      "cell_type": "code",
      "source": [
        "my_list=[1,2,3]\n",
        "a,b,c=my_list\n",
        "print(\"a:\",a)\n",
        "print(\"b:\",b)\n",
        "print(\"c:\",c)"
      ],
      "metadata": {
        "colab": {
          "base_uri": "https://localhost:8080/"
        },
        "id": "sXGooqD68k18",
        "outputId": "b5344995-bf40-4ce7-a087-c7660169a47a"
      },
      "execution_count": null,
      "outputs": [
        {
          "output_type": "stream",
          "name": "stdout",
          "text": [
            "a: 1\n",
            "b: 2\n",
            "c: 3\n"
          ]
        }
      ]
    },
    {
      "cell_type": "markdown",
      "source": [
        "(43)What is tuple? Difference between list and tuple"
      ],
      "metadata": {
        "id": "Q-d98mUE83Fn"
      }
    },
    {
      "cell_type": "markdown",
      "source": [
        "tuple->-> Atuple in python is an immutable,ordered collection of elements,defined using parentheses() and can store multiple data types.\n",
        "\n",
        "difference btw list & tuple:\n",
        "\n",
        "      \n",
        "Changeable:\n",
        "\n",
        "        list-> you can change,add or remove items.\n",
        "        tuple->you cannot change the items.\n",
        "\n",
        "\n",
        "syntax:\n",
        "\n",
        "        list: written with square brackets[]\n",
        "        tuple:written with parentheses()\n",
        "\n",
        "\n",
        "\n",
        "Speed:\n",
        "\n",
        "        list->slower because it's changeable\n",
        "        tuple-> faster because it's fixed\n",
        "\n",
        "        \n",
        "Use:\n",
        "\n",
        "        list-> for data that can change\n",
        "        tuple-> for data that stays constant        \n",
        "       \n"
      ],
      "metadata": {
        "id": "LHxKNq2T3dSs"
      }
    },
    {
      "cell_type": "markdown",
      "source": [
        "(44) write a python program to create a tuple with different data types."
      ],
      "metadata": {
        "id": "NhTdKurR5g7Q"
      }
    },
    {
      "cell_type": "code",
      "source": [
        "dtype_tuple=(42,\"hello\",3.14,True,[1,2,3,4],{\"key\":\"value\"})\n",
        "print(\"tuple with different data types:\",dtype_tuple)"
      ],
      "metadata": {
        "colab": {
          "base_uri": "https://localhost:8080/"
        },
        "id": "TZkX_dw05lpI",
        "outputId": "c502e4b7-e870-4d79-a302-9856adecf0c4"
      },
      "execution_count": null,
      "outputs": [
        {
          "output_type": "stream",
          "name": "stdout",
          "text": [
            "tuple with different data types: (42, 'hello', 3.14, True, [1, 2, 3, 4], {'key': 'value'})\n"
          ]
        }
      ]
    },
    {
      "cell_type": "markdown",
      "source": [
        "(45) write a pyhton program to unzip a list of tuples into individual lists."
      ],
      "metadata": {
        "id": "Qmq_0T6i6WLM"
      }
    },
    {
      "cell_type": "code",
      "source": [
        "tuples = [(1, 2, 3), (4, 5, 6), (7, 8, 9)]\n",
        "unzipped = list(zip(*tuples))\n",
        "unzipped_lists = [list(item) for item in unzipped]\n",
        "for lst in unzipped_lists:\n",
        "    print(lst)"
      ],
      "metadata": {
        "colab": {
          "base_uri": "https://localhost:8080/"
        },
        "id": "23HPjCeX7Avn",
        "outputId": "c1bed5f5-3701-4437-bb86-c6852db53353"
      },
      "execution_count": null,
      "outputs": [
        {
          "output_type": "stream",
          "name": "stdout",
          "text": [
            "[1, 4, 7]\n",
            "[2, 5, 8]\n",
            "[3, 6, 9]\n"
          ]
        }
      ]
    },
    {
      "cell_type": "markdown",
      "source": [
        "(46)Write a Python program to convert a list of tuples into a dictionary.\n"
      ],
      "metadata": {
        "id": "7ooxx2Co7NiS"
      }
    },
    {
      "cell_type": "code",
      "source": [
        "def list_of_tuples_to_dict(tuples_list):\n",
        "  result_dict={key: value for key,value in tuples_list}\n",
        "  return result_dict\n",
        "  tuples_list=[(1,'a'),(2,'b'),(3,'c')]\n",
        "  result_dict=list_of_tuples_to_dict(tuples_list)\n",
        "  print(\"dictionary:\",result_dict)"
      ],
      "metadata": {
        "id": "ocRm1Q6H7dNl"
      },
      "execution_count": null,
      "outputs": []
    },
    {
      "cell_type": "markdown",
      "source": [
        "(47)How will you create a dictionary using tuples in python?\n"
      ],
      "metadata": {
        "id": "3gTwI6kc7sWB"
      }
    },
    {
      "cell_type": "code",
      "source": [
        "tuple_list = [('a', 1), ('b', 2), ('c', 3)]\n",
        "dictionary = dict(tuple_list)\n",
        "print(dictionary)"
      ],
      "metadata": {
        "id": "j01HvlZD8u-j"
      },
      "execution_count": null,
      "outputs": []
    },
    {
      "cell_type": "markdown",
      "source": [
        "(48)Write a Python script to sort (ascending and descending) a\n",
        "dictionary by value.\n"
      ],
      "metadata": {
        "id": "4uaB3YME8zQ7"
      }
    },
    {
      "cell_type": "code",
      "source": [
        "def sort_dict_by_value_ascending(input_dict):\n",
        "  sorted_dict=dict(sorted(input_dict.items(),key=lambda item:item[1]))\n",
        "  return sorted_dict\n",
        "input_dict={'a':3,'b':1,'c':2}\n",
        "sorted_ascending=sort_dict_by_value_ascending(input_dict)\n",
        "print(\"sorted in ascending order:\",sorted_ascending)"
      ],
      "metadata": {
        "colab": {
          "base_uri": "https://localhost:8080/"
        },
        "id": "ly3tTTdV859j",
        "outputId": "00bad92d-8d75-445b-8961-cbc812fd63aa"
      },
      "execution_count": null,
      "outputs": [
        {
          "output_type": "stream",
          "name": "stdout",
          "text": [
            "sorted in ascending order: {'b': 1, 'c': 2, 'a': 3}\n"
          ]
        }
      ]
    },
    {
      "cell_type": "markdown",
      "source": [
        "(49)Write a Python script to concatenate following dictionaries to create\n",
        "a new one.\n"
      ],
      "metadata": {
        "id": "M_uT9ODc9ZzG"
      }
    },
    {
      "cell_type": "code",
      "source": [
        "def concatenate_dicts(*dicts):\n",
        "  result_dict={}\n",
        "  for dictionary in dicts:\n",
        "       results_dict.update(dictionary)\n",
        "  return result_dict\n",
        "  dict1={'a':1,'b':2}\n",
        "  dict2={'c':3,'d':4}\n",
        "  new_dict=concatenate_dicts(dict1,dict2)\n",
        "  print(\"concatenated dictionary:\",new_dict)"
      ],
      "metadata": {
        "id": "1_XVE_hJ9l6X"
      },
      "execution_count": null,
      "outputs": []
    },
    {
      "cell_type": "markdown",
      "source": [
        "(50)Write a Python script to check if a given key already exists in a\n",
        "dictionary.\n"
      ],
      "metadata": {
        "id": "klS8Vwsa9sKj"
      }
    },
    {
      "cell_type": "code",
      "source": [
        "sample_dict = {'apple': 4, 'banana': 2, 'cherry': 5, 'date': 3}\n",
        "key_to_check = 'banana'\n",
        "if key_to_check in sample_dict:\n",
        "    print(f\"'{key_to_check}' exists in the dictionary.\")\n",
        "else:\n",
        "    print(f\"'{key_to_check}' does not exist in the dictionary.\")"
      ],
      "metadata": {
        "colab": {
          "base_uri": "https://localhost:8080/"
        },
        "id": "JsSuJ4r5-dxB",
        "outputId": "ab035c61-26fc-4145-b2b4-04df1788eef7"
      },
      "execution_count": null,
      "outputs": [
        {
          "output_type": "stream",
          "name": "stdout",
          "text": [
            "'banana' exists in the dictionary.\n"
          ]
        }
      ]
    },
    {
      "cell_type": "markdown",
      "source": [
        "(51)How Do You Traverse Through a Dictionary Object in Python?"
      ],
      "metadata": {
        "id": "wTXp7cTq97fO"
      }
    },
    {
      "cell_type": "code",
      "source": [
        "my_dict={'a':1,'b':2,'c':3}\n",
        "for key in my_dict:\n",
        "   print(f\"key:{key}\")\n",
        "for value in my_dict.values():\n",
        "  print(f\"value:{value}\")\n"
      ],
      "metadata": {
        "colab": {
          "base_uri": "https://localhost:8080/"
        },
        "id": "qm8beVCb9_zl",
        "outputId": "71ce7430-40f5-462b-bb93-de94065e7fe1"
      },
      "execution_count": null,
      "outputs": [
        {
          "output_type": "stream",
          "name": "stdout",
          "text": [
            "key:a\n",
            "key:b\n",
            "key:c\n",
            "value:1\n",
            "value:2\n",
            "value:3\n"
          ]
        }
      ]
    },
    {
      "cell_type": "markdown",
      "source": [
        "(52)How Do You Check the Presence of a Key in A Dictionary?"
      ],
      "metadata": {
        "id": "K1Zv9bSb-t9H"
      }
    },
    {
      "cell_type": "code",
      "source": [
        "my_dict={'a':1,'b':2,'c':3}\n",
        "key_to_check='b'\n",
        "\n",
        "if key_to_check in my_dict:\n",
        "  print(f\"the key '{key_to_check}'exists in the dictionary.\")\n",
        "else:\n",
        "  print(f\"the key '{key_to_check}' does not exist in the dictionary.\")\n"
      ],
      "metadata": {
        "colab": {
          "base_uri": "https://localhost:8080/"
        },
        "id": "wKFPkw7w-4ME",
        "outputId": "239e54a9-f058-4bad-930f-5bc9fd6d56f8"
      },
      "execution_count": null,
      "outputs": [
        {
          "output_type": "stream",
          "name": "stdout",
          "text": [
            "the key 'b'exists in the dictionary.\n"
          ]
        }
      ]
    },
    {
      "cell_type": "markdown",
      "source": [
        "(53)Write a Python script to print a dictionary where the keys are\n",
        "numbers between 1 and 15."
      ],
      "metadata": {
        "id": "llz5OW_o_NA1"
      }
    },
    {
      "cell_type": "code",
      "source": [
        "number_dict = {i: i**2 for i in range(1, 16)}\n",
        "print(number_dict)"
      ],
      "metadata": {
        "colab": {
          "base_uri": "https://localhost:8080/"
        },
        "id": "FfuVstIG_XMl",
        "outputId": "e10e5fe1-7c73-4842-a9d4-2e2414fb981b"
      },
      "execution_count": null,
      "outputs": [
        {
          "output_type": "stream",
          "name": "stdout",
          "text": [
            "{1: 1, 2: 4, 3: 9, 4: 16, 5: 25, 6: 36, 7: 49, 8: 64, 9: 81, 10: 100, 11: 121, 12: 144, 13: 169, 14: 196, 15: 225}\n"
          ]
        }
      ]
    },
    {
      "cell_type": "markdown",
      "source": [
        "(54)Write a Python program to check multiple keys exists in a dictionary"
      ],
      "metadata": {
        "id": "10_0sH9K_7wV"
      }
    },
    {
      "cell_type": "code",
      "source": [
        "sample_dict = {'apple': 4, 'banana': 2, 'cherry': 5, 'date': 3}\n",
        "keys_to_check = ['apple', 'banana', 'kiwi']\n",
        "all_keys_exist = all(key in sample_dict for key in keys_to_check)\n",
        "if all_keys_exist:\n",
        "    print(\"All the keys exist in the dictionary.\")\n",
        "else:\n",
        "    print(\"Not all the keys exist in the dictionary.\")"
      ],
      "metadata": {
        "colab": {
          "base_uri": "https://localhost:8080/"
        },
        "id": "0u5glWiWAA43",
        "outputId": "8666fd8a-926e-41d5-9155-e158c06b8431"
      },
      "execution_count": null,
      "outputs": [
        {
          "output_type": "stream",
          "name": "stdout",
          "text": [
            "Not all the keys exist in the dictionary.\n"
          ]
        }
      ]
    },
    {
      "cell_type": "markdown",
      "source": [
        "(55)Write a Python script to merge two Python dictionaries"
      ],
      "metadata": {
        "id": "XF1nKSwFAfUB"
      }
    },
    {
      "cell_type": "code",
      "source": [
        "dict1 = {'a': 1, 'b': 2}\n",
        "dict2 = {'c': 3, 'd': 4}\n",
        "dict1.update(dict2)\n",
        "print(dict1)"
      ],
      "metadata": {
        "colab": {
          "base_uri": "https://localhost:8080/"
        },
        "id": "pt7gKN-MApCZ",
        "outputId": "980bd494-359d-40d1-90f0-b19c266f8849"
      },
      "execution_count": null,
      "outputs": [
        {
          "output_type": "stream",
          "name": "stdout",
          "text": [
            "{'a': 1, 'b': 2, 'c': 3, 'd': 4}\n"
          ]
        }
      ]
    },
    {
      "cell_type": "markdown",
      "source": [
        "(56)Write a Python program to map two lists into a dictionary\n",
        "Sample output: Counter ({'a': 400, 'b': 400,’d’: 400, 'c': 300})."
      ],
      "metadata": {
        "id": "sCK708KoBFrp"
      }
    },
    {
      "cell_type": "code",
      "source": [
        "from collections import Counter\n",
        "keys = ['a', 'b', 'd', 'c']\n",
        "values = [400, 400, 400, 300]\n",
        "mapped_dict = dict(zip(keys, values))\n",
        "counter_dict = Counter(mapped_dict)\n",
        "print(counter_dict)"
      ],
      "metadata": {
        "colab": {
          "base_uri": "https://localhost:8080/"
        },
        "id": "UtE-62eDBKdD",
        "outputId": "0be8f71a-4316-4750-d07e-0b3618640d64"
      },
      "execution_count": null,
      "outputs": [
        {
          "output_type": "stream",
          "name": "stdout",
          "text": [
            "Counter({'a': 400, 'b': 400, 'd': 400, 'c': 300})\n"
          ]
        }
      ]
    },
    {
      "cell_type": "markdown",
      "source": [
        "(57)Write a Python program to find the highest 3 values in a dictionary"
      ],
      "metadata": {
        "id": "6_B-bx3WBnaH"
      }
    },
    {
      "cell_type": "code",
      "source": [
        "sample_dict = {'a': 50, 'b': 200, 'c': 150, 'd': 400, 'e': 300}\n",
        "top_3 = sorted(sample_dict.items(), key=lambda item: item[1], reverse=True)[:3]\n",
        "print(\"The highest 3 values in the dictionary are:\")\n",
        "for key, value in top_3:\n",
        "    print(f\"{key}: {value}\")"
      ],
      "metadata": {
        "colab": {
          "base_uri": "https://localhost:8080/"
        },
        "id": "aOW6Fys-BvDr",
        "outputId": "e5748f06-a377-40b2-82b0-d4f43d48132d"
      },
      "execution_count": null,
      "outputs": [
        {
          "output_type": "stream",
          "name": "stdout",
          "text": [
            "The highest 3 values in the dictionary are:\n",
            "d: 400\n",
            "e: 300\n",
            "b: 200\n"
          ]
        }
      ]
    },
    {
      "cell_type": "markdown",
      "source": [
        "(58)Write a Python program to combine values in python list of dictionaries.\n",
        "Sample data: [{'item': 'item1', 'amount': 400}, {'item': 'item2', 'amount':\n",
        "300}, o {'item': 'item1', 'amount': 750}]\n",
        "Expected Output:\n",
        "• Counter ({'item1': 1150, 'item2': 300})"
      ],
      "metadata": {
        "id": "nsP9gpSeB7Fc"
      }
    },
    {
      "cell_type": "code",
      "source": [
        "from collections import Counter\n",
        "data = [{'item': 'item1', 'amount': 400}, {'item': 'item2', 'amount': 300}, {'item': 'item1', 'amount': 750}]\n",
        "counter = Counter()\n",
        "\n",
        "for entry in data:\n",
        "    counter[entry['item']] += entry['amount']\n",
        "print(counter)"
      ],
      "metadata": {
        "colab": {
          "base_uri": "https://localhost:8080/"
        },
        "id": "AgQGUlH8CI6A",
        "outputId": "18b4238a-19c9-4b82-da73-84618fb1f913"
      },
      "execution_count": null,
      "outputs": [
        {
          "output_type": "stream",
          "name": "stdout",
          "text": [
            "Counter({'item1': 1150, 'item2': 300})\n"
          ]
        }
      ]
    },
    {
      "cell_type": "markdown",
      "source": [
        "(59)Write a Python program to create a dictionary from a string.\n",
        "Note: Track the count of the letters from the string."
      ],
      "metadata": {
        "id": "3bckacGZCPqk"
      }
    },
    {
      "cell_type": "code",
      "source": [
        "input_string = \"sukanya\"\n",
        "letter_count = {}\n",
        "for letter in input_string:\n",
        "    if letter in letter_count:\n",
        "        letter_count[letter] += 1\n",
        "    else:\n",
        "        letter_count[letter] = 1\n",
        "print(letter_count)"
      ],
      "metadata": {
        "colab": {
          "base_uri": "https://localhost:8080/"
        },
        "id": "0mnpJbwWCbb4",
        "outputId": "e740546d-8f17-49a7-e53f-5d4680c7ab57"
      },
      "execution_count": null,
      "outputs": [
        {
          "output_type": "stream",
          "name": "stdout",
          "text": [
            "{'s': 1, 'u': 1, 'k': 1, 'a': 2, 'n': 1, 'y': 1}\n"
          ]
        }
      ]
    },
    {
      "cell_type": "markdown",
      "source": [
        "(60))Sample string:\n",
        " 'w3resource' Expected output:\n",
        "• {'3': 1,’s’: 1, 'r': 2, 'u': 1, 'w': 1, 'c': 1, 'e': 2, 'o': 1}"
      ],
      "metadata": {
        "id": "Mh5WXhEwCvHd"
      }
    },
    {
      "cell_type": "code",
      "source": [
        "input_string = \"helloworld\"\n",
        "letter_count = {}\n",
        "for char in input_string:\n",
        "    if char in letter_count:\n",
        "        letter_count[char] += 1\n",
        "    else:\n",
        "        letter_count[char] = 1\n",
        "print(letter_count)"
      ],
      "metadata": {
        "colab": {
          "base_uri": "https://localhost:8080/"
        },
        "id": "PT25tWReDFnw",
        "outputId": "1a022d2a-e87b-4366-85e1-b77263432db2"
      },
      "execution_count": null,
      "outputs": [
        {
          "output_type": "stream",
          "name": "stdout",
          "text": [
            "{'h': 1, 'e': 1, 'l': 3, 'o': 2, 'w': 1, 'r': 1, 'd': 1}\n"
          ]
        }
      ]
    },
    {
      "cell_type": "markdown",
      "source": [
        "(61)Write a Python function to calculate the factorial of a number (a\n",
        "nonnegative integer)\n"
      ],
      "metadata": {
        "id": "MRMxXlIjDu1s"
      }
    },
    {
      "cell_type": "code",
      "source": [
        "def factorial(n):\n",
        "    if n < 0:\n",
        "        return \"Factorial is not defined for negative numbers\"\n",
        "\n",
        "    result = 1\n",
        "    for i in range(1, n + 1):\n",
        "        result *= i\n",
        "    return result\n",
        "num = 10\n",
        "print(f\"Factorial of {num} is {factorial(num)}\")"
      ],
      "metadata": {
        "colab": {
          "base_uri": "https://localhost:8080/"
        },
        "id": "9O_ezKERDzry",
        "outputId": "84af085b-9f6a-4eb9-fff0-2ae122d6bd18"
      },
      "execution_count": null,
      "outputs": [
        {
          "output_type": "stream",
          "name": "stdout",
          "text": [
            "Factorial of 10 is 3628800\n"
          ]
        }
      ]
    },
    {
      "cell_type": "markdown",
      "source": [
        "(62)Write a Python function to check whether a number is in a given range"
      ],
      "metadata": {
        "id": "cM6Gu9OXEKFW"
      }
    },
    {
      "cell_type": "code",
      "source": [
        "def is_in_range(number, start, end):\n",
        "    if start <= number <= end:\n",
        "        return True\n",
        "    else:\n",
        "        return False\n",
        "number = 5\n",
        "start = 1\n",
        "end = 10\n",
        "print(f\"Is {number} in the range {start} to {end}? {is_in_range(number, start, end)}\")"
      ],
      "metadata": {
        "colab": {
          "base_uri": "https://localhost:8080/"
        },
        "id": "MQH4SHnKEQyP",
        "outputId": "094906d4-d23c-4e6f-a992-01b08646c470"
      },
      "execution_count": null,
      "outputs": [
        {
          "output_type": "stream",
          "name": "stdout",
          "text": [
            "Is 5 in the range 1 to 10? True\n"
          ]
        }
      ]
    },
    {
      "cell_type": "markdown",
      "source": [
        "(63))Write a Python function to check whether a number is perfect or not."
      ],
      "metadata": {
        "id": "bwt-4yfYElXl"
      }
    },
    {
      "cell_type": "code",
      "source": [
        "def is_perfect_number(n):\n",
        "  if n <=0:\n",
        "    return False\n",
        "  sum_of_divisors=0\n",
        "  for i in range(1,n):\n",
        "    if n%i==0:\n",
        "      sum_of_divisors +=i\n",
        "    return sum_of_divisors==n\n",
        "\n",
        "  print(f\"{num}is a perfect num.\")\n",
        "\n",
        "  print(f\"{num}is not a perfect num\")"
      ],
      "metadata": {
        "id": "-XHdETSIEsuK"
      },
      "execution_count": null,
      "outputs": []
    },
    {
      "cell_type": "markdown",
      "source": [
        "(64)Write a Python function that checks whether a passed string is\n",
        "palindrome or not"
      ],
      "metadata": {
        "id": "ZMv5rGiAE8HD"
      }
    },
    {
      "cell_type": "code",
      "source": [
        "def is_palindrome(s: str) -> bool:\n",
        "    s = s.replace(\" \", \"\").lower()\n",
        "    return s == s[::-1]\n",
        "\n",
        "print(is_palindrome(\"i am sukanya\"))\n",
        "print(is_palindrome(\"aba\"))"
      ],
      "metadata": {
        "colab": {
          "base_uri": "https://localhost:8080/"
        },
        "id": "KIBZWs1IgpF5",
        "outputId": "72869f05-9d89-4ae9-e40c-fd42747012d9"
      },
      "execution_count": null,
      "outputs": [
        {
          "output_type": "stream",
          "name": "stdout",
          "text": [
            "False\n",
            "True\n"
          ]
        }
      ]
    },
    {
      "cell_type": "markdown",
      "source": [
        "(65)How Many Basic Types of Functions Are Available in Python?"
      ],
      "metadata": {
        "id": "QYwJo-xThQKd"
      }
    },
    {
      "cell_type": "markdown",
      "source": [
        "Two type of function in python:\n",
        "\n",
        "1->built-in function:  There are already available in python print(),len(),type(),sum() etc\n",
        "\n",
        "2->user defined function:  functions created by user to perform specific tasks."
      ],
      "metadata": {
        "id": "KgD9eGBmkBI3"
      }
    },
    {
      "cell_type": "markdown",
      "source": [],
      "metadata": {
        "id": "-Cd-bXmOlLqE"
      }
    },
    {
      "cell_type": "markdown",
      "source": [
        "(66)How can you pick a random item from a list or tuple?"
      ],
      "metadata": {
        "id": "kBgdOPMobcE8"
      }
    },
    {
      "cell_type": "code",
      "source": [
        " import random\n",
        " my_list=[1,2,3,4,5]\n",
        "random_item=random.choice(my_list)\n",
        "print(random_item)"
      ],
      "metadata": {
        "colab": {
          "base_uri": "https://localhost:8080/"
        },
        "id": "X7QDRM7w7GvN",
        "outputId": "af813fd3-5792-4de9-9b9f-78618e183d3a"
      },
      "execution_count": 3,
      "outputs": [
        {
          "output_type": "stream",
          "name": "stdout",
          "text": [
            "5\n"
          ]
        }
      ]
    },
    {
      "cell_type": "markdown",
      "source": [
        "(67)How can you pick a random item from a range?"
      ],
      "metadata": {
        "id": "_CVB0qzU7SnY"
      }
    },
    {
      "cell_type": "code",
      "source": [
        "import random\n",
        "random_item=random.choice(range(1,10))\n",
        "print(random_item)"
      ],
      "metadata": {
        "colab": {
          "base_uri": "https://localhost:8080/"
        },
        "id": "Ddus5UqO7Z0h",
        "outputId": "c104aaae-447f-4109-ecfc-56630948327a"
      },
      "execution_count": 7,
      "outputs": [
        {
          "output_type": "stream",
          "name": "stdout",
          "text": [
            "1\n"
          ]
        }
      ]
    },
    {
      "cell_type": "markdown",
      "source": [
        "(68)How can you get a random number in python?\n"
      ],
      "metadata": {
        "id": "R6t8Qd8376LB"
      }
    },
    {
      "cell_type": "code",
      "source": [
        "import random\n",
        "num=random.random()\n",
        "print(num)"
      ],
      "metadata": {
        "colab": {
          "base_uri": "https://localhost:8080/"
        },
        "id": "zrfV42UO8Byi",
        "outputId": "f74ee3d1-a4c9-4fbe-c776-6ec052e63194"
      },
      "execution_count": 22,
      "outputs": [
        {
          "output_type": "stream",
          "name": "stdout",
          "text": [
            "0.21994316581883522\n"
          ]
        }
      ]
    },
    {
      "cell_type": "markdown",
      "source": [
        "(69)How will you set the starting value in generating random numbers?"
      ],
      "metadata": {
        "id": "EC8_9RVa8iCy"
      }
    },
    {
      "cell_type": "code",
      "source": [
        "import random\n",
        "random.seed(56)\n",
        "print(random.randint(1,10))"
      ],
      "metadata": {
        "colab": {
          "base_uri": "https://localhost:8080/"
        },
        "id": "6Z4pn1Q18pQJ",
        "outputId": "feb9cdf0-5013-4c61-80aa-07bd2f66494f"
      },
      "execution_count": 35,
      "outputs": [
        {
          "output_type": "stream",
          "name": "stdout",
          "text": [
            "9\n"
          ]
        }
      ]
    },
    {
      "cell_type": "markdown",
      "source": [
        "(70)How will you randomize the items of a list in place?"
      ],
      "metadata": {
        "id": "w6j31QwQ9rpw"
      }
    },
    {
      "cell_type": "code",
      "source": [
        "import random\n",
        "my_list=[1,2,3,4,5]\n",
        "random.shuffle(my_list)\n",
        "print(my_list)"
      ],
      "metadata": {
        "colab": {
          "base_uri": "https://localhost:8080/"
        },
        "id": "6HkrjojA90CO",
        "outputId": "05ee1d3d-5159-433f-90d1-ecb3d3ca6990"
      },
      "execution_count": 39,
      "outputs": [
        {
          "output_type": "stream",
          "name": "stdout",
          "text": [
            "[2, 1, 4, 5, 3]\n"
          ]
        }
      ]
    },
    {
      "cell_type": "markdown",
      "source": [
        "(71)What is File function in python? What are keywords to create\n",
        "and write file."
      ],
      "metadata": {
        "id": "BB9vRgFL-YeB"
      }
    },
    {
      "cell_type": "markdown",
      "source": [
        "-->file functions in python allow you to work with files,like reading from or writing to them To create and write to a file , you use the open() function."
      ],
      "metadata": {
        "id": "85lfDX6m_MID"
      }
    },
    {
      "cell_type": "code",
      "source": [
        "# write mode:\n",
        "\n",
        "with open(\"example.txt\",\"w\") as file:\n",
        "  file.write(\"hello,world!\")"
      ],
      "metadata": {
        "id": "-P9JLwqyAGxT"
      },
      "execution_count": 40,
      "outputs": []
    },
    {
      "cell_type": "code",
      "source": [
        "# append mode\n",
        "with open(\"example.txt\",\"a\") as file:\n",
        "  file.write(\"/nAppending this line.\")"
      ],
      "metadata": {
        "id": "QAZk5jxvAKHW"
      },
      "execution_count": null,
      "outputs": []
    },
    {
      "cell_type": "markdown",
      "source": [
        "(72)write a python program to read  an entire text file."
      ],
      "metadata": {
        "id": "fz8PLZ3xAPPd"
      }
    },
    {
      "cell_type": "code",
      "source": [
        "def read_file(file_path):\n",
        "  with open(file_path,'r')as file:\n",
        "    content=file.read()\n",
        "  return content\n",
        "file_path='example.txt'\n",
        "file_content=read_file(file_path)\n",
        "print(\"file content:\\n\",file_content)"
      ],
      "metadata": {
        "colab": {
          "base_uri": "https://localhost:8080/"
        },
        "id": "eTZOpHz3Adc9",
        "outputId": "e6694351-fef3-44e8-f93a-0ae63e4e4ee2"
      },
      "execution_count": 41,
      "outputs": [
        {
          "output_type": "stream",
          "name": "stdout",
          "text": [
            "file content:\n",
            " hello,world!\n"
          ]
        }
      ]
    },
    {
      "cell_type": "markdown",
      "source": [
        "(73)write a python program to append text to a file and display the text."
      ],
      "metadata": {
        "id": "Ri6tP2R6Athh"
      }
    },
    {
      "cell_type": "code",
      "source": [
        "def append_read_file(file_path,text_to_append):\n",
        "  with open(file_path,'a')as file:\n",
        "    file.write(text_to_append+\"/n\")\n",
        "  with open(file_path,'r')as file:\n",
        "    content=file.read()\n",
        "    return content"
      ],
      "metadata": {
        "id": "L8pLswASAxEo"
      },
      "execution_count": 42,
      "outputs": []
    },
    {
      "cell_type": "markdown",
      "source": [
        "(74)write a python program to read first n lines of a file."
      ],
      "metadata": {
        "id": "wGKg-8FwBAOY"
      }
    },
    {
      "cell_type": "code",
      "source": [
        "def read_first_n_lines(file_path,n):\n",
        "  with open(file_path,'r')as file:\n",
        "    for i in range(n):\n",
        "      line=file.readline()\n",
        "      if line:\n",
        "        print(line.strip())\n",
        "      else:\n",
        "        break\n",
        "file_path='example.txt'\n",
        "n=3\n",
        "read_first_n_lines(file_path,n)"
      ],
      "metadata": {
        "id": "-1QiwIsRCi5o"
      },
      "execution_count": null,
      "outputs": []
    },
    {
      "cell_type": "markdown",
      "source": [
        "(75)write a python program to read last n line of a file."
      ],
      "metadata": {
        "id": "LjHoN5lcBZXB"
      }
    },
    {
      "cell_type": "code",
      "source": [
        "def read_last_n_lines(file_path,n):\n",
        "  with open(file_path,'r')as file:\n",
        "    lines=file.readlines()\n",
        "\n",
        "    last_n_lines=lines[-n:]\n",
        "    for line in last_n_lines:\n",
        "      print(line,strip())\n",
        "\n",
        "file_path='example.txt'\n",
        "n=3\n",
        "read_first_n_lines(file_path,n)\n"
      ],
      "metadata": {
        "id": "_tY99-w0Cq2_"
      },
      "execution_count": null,
      "outputs": []
    },
    {
      "cell_type": "markdown",
      "source": [
        "(76)Write a Python program to read a file line by line and store it into a list"
      ],
      "metadata": {
        "id": "pVD7icy7Cw6c"
      }
    },
    {
      "cell_type": "code",
      "source": [
        "def read_file_to_list(file_path):\n",
        "    try:\n",
        "           with open(file_path,'r')as file:\n",
        "               lines=file.readlines()\n",
        "               line_list=[line.strip()for line in lines]\n",
        "           return line_list\n",
        "    except FileNotFoundError:\n",
        "      print(\"error: file was not found.\")\n",
        "    return []\n",
        "file_path=\"example.txt\"\n",
        "lines_list=read_file_to_list(file_path)\n",
        "print(lines_list)\n"
      ],
      "metadata": {
        "colab": {
          "base_uri": "https://localhost:8080/"
        },
        "id": "u0H0uBfSC6kU",
        "outputId": "9b3199db-252a-41c7-aab5-e111732c064d"
      },
      "execution_count": 52,
      "outputs": [
        {
          "output_type": "stream",
          "name": "stdout",
          "text": [
            "['hello,world!']\n"
          ]
        }
      ]
    },
    {
      "cell_type": "markdown",
      "source": [
        "(77)Write a Python program to read a file line by line store it into a variable."
      ],
      "metadata": {
        "id": "7ZtK2AL4DCFM"
      }
    },
    {
      "cell_type": "code",
      "source": [
        "def read_file_to_variable(file_path):\n",
        "  with open(file_path,'r') as file:\n",
        "      content=file.readlines()\n",
        "  return content\n",
        "file_path='sample.txt'\n",
        "\n",
        "try:\n",
        "    file_content=read_file_to_variable(file_path)\n",
        "    print(\"file content stored in variable:\")\n",
        "    print(file_content)\n",
        "except FileNotFoundError:\n",
        "    print(f\"the file '{file_path}' does not exist.\")\n",
        "\n",
        "\n"
      ],
      "metadata": {
        "colab": {
          "base_uri": "https://localhost:8080/"
        },
        "id": "DjE6hctKDHOk",
        "outputId": "56f0f424-04dd-41d9-8c0f-4ee461c19c76"
      },
      "execution_count": 53,
      "outputs": [
        {
          "output_type": "stream",
          "name": "stdout",
          "text": [
            "the file 'sample.txt' does not exist.\n"
          ]
        }
      ]
    },
    {
      "cell_type": "markdown",
      "source": [
        "(78)Write a python program to find the longest words.\n"
      ],
      "metadata": {
        "id": "ZCyyNqskDcTe"
      }
    },
    {
      "cell_type": "code",
      "source": [
        "def find_longest_words(text):\n",
        "    words =text.split()\n",
        "    max_length=max(len(word) for word in words)\n",
        "    return [word for word in words if len(word)==max_length]\n",
        "text=\"the quick brown for jumps over the lazy dog\"\n",
        "print(\"longest word(s):\",find_longest_words(text))"
      ],
      "metadata": {
        "colab": {
          "base_uri": "https://localhost:8080/"
        },
        "id": "Z0yRdE4mDjem",
        "outputId": "3929fef5-b370-49c3-a800-b2989881963e"
      },
      "execution_count": 54,
      "outputs": [
        {
          "output_type": "stream",
          "name": "stdout",
          "text": [
            "longest word(s): ['quick', 'brown', 'jumps']\n"
          ]
        }
      ]
    },
    {
      "cell_type": "markdown",
      "source": [
        "(79)Write a Python program to count the number of lines in a text file.\n"
      ],
      "metadata": {
        "id": "CDD5zIYzDqpn"
      }
    },
    {
      "cell_type": "code",
      "source": [
        "def count_lines(file_path):\n",
        "  try:\n",
        "     with open(file_path,'r')as file:\n",
        "      lines=file.readlines()\n",
        "     return len(lines)\n",
        "  except FileNotFoundError:\n",
        "    print(\"specified file was not found.\")\n",
        "    return 0\n",
        "  except Exception as e:\n",
        "    print(f\"error occurred:{e}\")\n",
        "    return 0\n",
        "file_path='sample.txt'\n",
        "line_count=count_lines(file_path)\n",
        "print(f\"number of lines in the file:{line_count}\")\n"
      ],
      "metadata": {
        "colab": {
          "base_uri": "https://localhost:8080/"
        },
        "id": "obUrfBkrDvOL",
        "outputId": "e11c388a-ab20-4d49-c3a4-57ee95b683e9"
      },
      "execution_count": 55,
      "outputs": [
        {
          "output_type": "stream",
          "name": "stdout",
          "text": [
            "specified file was not found.\n",
            "number of lines in the file:0\n"
          ]
        }
      ]
    },
    {
      "cell_type": "markdown",
      "source": [
        "(80)Write a Python program to count the frequency of words in a file.\n"
      ],
      "metadata": {
        "id": "xA2TSOlxD5Kh"
      }
    },
    {
      "cell_type": "markdown",
      "source": [
        "file_path='example.txt'\n",
        "word_frequencies= count_word_frequency(file_path)\n",
        "print(\"word frequencies:\")\n",
        "for word,frequency in word_frequencies.items():\n",
        "  print(f\"{word}:{frequency}\")\n"
      ],
      "metadata": {
        "id": "bFo9vAjmEtig"
      }
    },
    {
      "cell_type": "markdown",
      "source": [
        "(81)Write a Python program to write a list to a file.\n"
      ],
      "metadata": {
        "id": "-V9n4r1dExmk"
      }
    },
    {
      "cell_type": "code",
      "source": [
        "# python program to write a list to a file\n",
        "# list of items to write to the file\n",
        "items =[\"python\",\"file writing\",\"lists\"]\n",
        "file_name=\"output.txt\"\n",
        "with open(file_name,'w')as file:\n",
        "     for item in items:\n",
        "      file.write(item+\"\\n\")\n",
        "     print(f\"the list has been written to {file_name}\")\n"
      ],
      "metadata": {
        "colab": {
          "base_uri": "https://localhost:8080/"
        },
        "id": "2ti1jcWkFBm-",
        "outputId": "2d6b0d97-e82f-42f8-d5be-4024c20752c4"
      },
      "execution_count": 59,
      "outputs": [
        {
          "output_type": "stream",
          "name": "stdout",
          "text": [
            "the list has been written to output.txt\n"
          ]
        }
      ]
    },
    {
      "cell_type": "markdown",
      "source": [
        "(82)Write a Python program to copy the contents of a file to another file."
      ],
      "metadata": {
        "id": "htbSp8SkFC5n"
      }
    },
    {
      "cell_type": "code",
      "source": [
        "def copy_file(source_file_path,destination_file_path):\n",
        "   with open(source_file_path,'r')as source_file:\n",
        "     content=source_file.read()\n",
        "   with open(destination_file_path,'w') as destination_file:\n",
        "     destination_file.write(content)\n"
      ],
      "metadata": {
        "id": "4N7HxMTiFI1E"
      },
      "execution_count": 60,
      "outputs": []
    },
    {
      "cell_type": "markdown",
      "source": [
        "(83)Explain Exception handling? What is an Error in Python?\n"
      ],
      "metadata": {
        "id": "yQlcq9XFFYIf"
      }
    },
    {
      "cell_type": "markdown",
      "source": [
        "-> exception handling is like a safety net for your code.it catches errors that happen while your program is running so your program doesn't crash.\n",
        "\n",
        "Try block: this is where you put the code that might cause an error.\n",
        "Except block:this is where you handle the error if it happens.\n",
        "Finally block:this is code that will run no matter what,whether there are an error or not\n",
        "Else block:this is code that will run if there are no errors.\n",
        "\n",
        "\n",
        "##Error in python:\n",
        "Syntax error: there are mistakes in your code's\n",
        "Exception:there are errors that happen while your program is running"
      ],
      "metadata": {
        "id": "vpJht9dgHBG6"
      }
    },
    {
      "cell_type": "markdown",
      "source": [
        "(84)How many except statements can a try-except block have? Name\n",
        "Some built-in exception classes:"
      ],
      "metadata": {
        "id": "8agY9omxHD8I"
      }
    },
    {
      "cell_type": "markdown",
      "source": [
        "Number of except Statement:\n",
        "                A try-except block in python can have multiple except statements to handle different types of exception.\n",
        "Built-in exception classes:\n",
        "\n",
        "1.Exception:the base class for all exceptions.\n",
        "\n",
        "2.ArithmetricError:the base class for error occurring during numeric calculations.\n",
        "\n",
        "3.ZeroDivisionError:Raise when division by zero occurs.\n",
        "\n",
        "4.ValueError:raised when a function receives an argument of the correct type but an inappropriate value\n",
        "\n",
        "5.TypeError: raised when an operation or function is applied to an object of inappropriate type.\n",
        "\n",
        "6.KeyError: raised when a dictionary key is not found\n"
      ],
      "metadata": {
        "id": "9GT_ZBq5HUCE"
      }
    },
    {
      "cell_type": "markdown",
      "source": [
        "(85) when will the else part of try-except-else be executed?"
      ],
      "metadata": {
        "id": "ty0GBT6qHY-e"
      }
    },
    {
      "cell_type": "code",
      "source": [
        "try:\n",
        "  num=int(input(\"enter a num:\"))\n",
        "  result=10/num\n",
        "except ValueError:\n",
        "  print(\"ValueError:please enter a valid integer.\")\n",
        "except ZeroDivisionError:\n",
        "  print(\"ZeroDivisionError:Division by zero is not allowed.\")\n",
        "else:\n",
        "  print(f\"result is{result}.\")\n",
        "finally:\n",
        "  print(\"execution of the'finally'block.\")\n"
      ],
      "metadata": {
        "colab": {
          "base_uri": "https://localhost:8080/"
        },
        "id": "Y5P8oGhMHiTE",
        "outputId": "b1df1956-8bf5-4ff5-e1b0-84b1055ab3fb"
      },
      "execution_count": 62,
      "outputs": [
        {
          "output_type": "stream",
          "name": "stdout",
          "text": [
            "enter a num:5\n",
            "result is2.0.\n",
            "execution of the'finally'block.\n"
          ]
        }
      ]
    },
    {
      "cell_type": "markdown",
      "source": [
        "(86)Can one block of except statements handle multiple exception?\n"
      ],
      "metadata": {
        "id": "k5HJR-nSHpfq"
      }
    },
    {
      "cell_type": "markdown",
      "source": [
        "--> Yes, a singh except block can handle multiple exceptions in python"
      ],
      "metadata": {
        "id": "aaAv7WNwH3Oi"
      }
    },
    {
      "cell_type": "code",
      "source": [
        "try:\n",
        "  #code that might raise exceptions\n",
        "  result=10/int(input(\"enter a number\"))\n",
        "except(ValueError,ZeroDivisionError) as e:\n",
        "  print(f\"an error occurred:{e}\")"
      ],
      "metadata": {
        "colab": {
          "base_uri": "https://localhost:8080/"
        },
        "id": "J143STyDH4TS",
        "outputId": "99503832-dcdb-43c2-a63d-46234314b668"
      },
      "execution_count": 64,
      "outputs": [
        {
          "name": "stdout",
          "output_type": "stream",
          "text": [
            "enter a number54\n"
          ]
        }
      ]
    },
    {
      "cell_type": "markdown",
      "source": [
        "(87) when is the finally block executed?"
      ],
      "metadata": {
        "id": "5gL2c1riINsL"
      }
    },
    {
      "cell_type": "markdown",
      "source": [
        "-->the finally block is always executed,whether an exception occurs or not"
      ],
      "metadata": {
        "id": "zS9HlRwpIdQx"
      }
    },
    {
      "cell_type": "code",
      "source": [
        "try:\n",
        "   num=int(input(\"enter a num:\"))\n",
        "   result=10/num\n",
        "   print(f\"result:{result}\")\n",
        "except ZeroDivisionError:\n",
        "   print(\"error:division by zero.\")\n",
        "except ValueError:\n",
        "   print(\"error:invalid value.\")\n",
        "finally:\n",
        "   print(\"this message always prints,no matter what.\")\n",
        "\n",
        "\n"
      ],
      "metadata": {
        "colab": {
          "base_uri": "https://localhost:8080/"
        },
        "id": "3EVKPCYBIY2w",
        "outputId": "ad0ab8b9-c2ee-439a-c777-891de3d58619"
      },
      "execution_count": 65,
      "outputs": [
        {
          "output_type": "stream",
          "name": "stdout",
          "text": [
            "enter a num:45\n",
            "result:0.2222222222222222\n",
            "this message always prints,no matter what.\n"
          ]
        }
      ]
    },
    {
      "cell_type": "markdown",
      "source": [
        "(88)what happens when,,l\"==l is executed?"
      ],
      "metadata": {
        "id": "8zwhxapYImuP"
      }
    },
    {
      "cell_type": "markdown",
      "source": [
        "-->when\"l\"==\"l\" is executed in python, it evaluates whether the string on the left side(\"l\") is equal to the string on the right side(\"l\").since both string are identical,the expression will evaluate to True"
      ],
      "metadata": {
        "id": "CDr8MDZFI1A1"
      }
    },
    {
      "cell_type": "code",
      "source": [
        "result=\"l\"==\"l\"\n",
        "print(result)"
      ],
      "metadata": {
        "colab": {
          "base_uri": "https://localhost:8080/"
        },
        "id": "2Jj54bA5Iwbe",
        "outputId": "bbf3db8d-2a02-4061-e163-1163142a7300"
      },
      "execution_count": 66,
      "outputs": [
        {
          "output_type": "stream",
          "name": "stdout",
          "text": [
            "True\n"
          ]
        }
      ]
    },
    {
      "cell_type": "markdown",
      "source": [
        "(89) how do you handle exceptions with try/except/finally in python?"
      ],
      "metadata": {
        "id": "X0jQzwpCJ2Tk"
      }
    },
    {
      "cell_type": "code",
      "source": [
        "try:\n",
        "  num=int(input(\"enter a num:\"))\n",
        "  result=10/num\n",
        "  print(f\"result:{result}\")\n",
        "except ValueError as ve:\n",
        "  print(f\"ValueError occurred:{ve}\")\n",
        "except ZeroDivisionError as zde:\n",
        "  print(f\"ZeroDivisionError occurred:{zde}\")\n",
        "finally:\n",
        "  print(\"execution of the 'finally'block.\")\n",
        "print(\"program continues...\")"
      ],
      "metadata": {
        "colab": {
          "base_uri": "https://localhost:8080/"
        },
        "id": "vQk-ibDzKBeY",
        "outputId": "b512d9cf-ed3e-43ec-cafd-c2fb7be6bdf1"
      },
      "execution_count": 67,
      "outputs": [
        {
          "output_type": "stream",
          "name": "stdout",
          "text": [
            "enter a num:5\n",
            "result:2.0\n",
            "execution of the 'finally'block.\n",
            "program continues...\n"
          ]
        }
      ]
    },
    {
      "cell_type": "markdown",
      "source": [
        "(90)write python program that user to enter only odd numbers,else will raise an exception"
      ],
      "metadata": {
        "id": "k1GG5cBAKN_T"
      }
    },
    {
      "cell_type": "code",
      "source": [
        "class EvenNumberException(Exception):\n",
        "  pass\n",
        "def get_odd_number():\n",
        "  try:\n",
        "     number=int(input(\"enter an odd number:\"))\n",
        "     if number%2==0:\n",
        "       raise EvenNumberException(f\"{number}is not an odd number.\")\n",
        "     print(f\"thank you!{number} is an odd number.\")\n",
        "  except EvenNumberException as e:\n",
        "    print(e)\n",
        "  except ValueError:\n",
        "    print(\"invalid input! please enter an integer.\")\n",
        "\n",
        "get_odd_number()"
      ],
      "metadata": {
        "colab": {
          "base_uri": "https://localhost:8080/"
        },
        "id": "OI8plKkTKXhJ",
        "outputId": "6eb55a23-429e-48e7-ad2a-b5859d644231"
      },
      "execution_count": 68,
      "outputs": [
        {
          "output_type": "stream",
          "name": "stdout",
          "text": [
            "enter an odd number:54\n",
            "54is not an odd number.\n"
          ]
        }
      ]
    }
  ]
}