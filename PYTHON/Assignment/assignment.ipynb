{
 "cells": [
  {
   "cell_type": "markdown",
   "id": "d4ecff1f",
   "metadata": {},
   "source": [
    "(1) What are the types of Applications?"
   ]
  },
  {
   "cell_type": "markdown",
   "id": "ff9f8dbd",
   "metadata": {},
   "source": [
    "Ans. 1.destop application\n",
    "2.mobile application\n",
    "3.web application\n",
    "4.enterprise application\n",
    "5.cloud application"
   ]
  },
  {
   "cell_type": "markdown",
   "id": "488ac679",
   "metadata": {},
   "source": [
    "(2)What is programing?"
   ]
  },
  {
   "cell_type": "markdown",
   "id": "5dd102d1",
   "metadata": {},
   "source": [
    "Ans. Programming, also known as coding or software development, is the process of creating instructions for a computer to follow in order to perform specific tasks."
   ]
  },
  {
   "cell_type": "markdown",
   "id": "06d0b659",
   "metadata": {},
   "source": [
    "(3)What is Python?"
   ]
  },
  {
   "cell_type": "markdown",
   "id": "ff7f9804",
   "metadata": {},
   "source": [
    "Ans. Python is an interpreted, object-oriented, high-level programming language.its easy to learn and use."
   ]
  },
  {
   "cell_type": "markdown",
   "id": "a0b2f75d",
   "metadata": {},
   "source": [
    "(4)Write a Python program to check if a number is positive, negative or\n",
    "zero.\n"
   ]
  },
  {
   "cell_type": "code",
   "execution_count": 1,
   "id": "71debf21",
   "metadata": {},
   "outputs": [
    {
     "name": "stdout",
     "output_type": "stream",
     "text": [
      "(num) is positive\n"
     ]
    }
   ],
   "source": [
    "num=int(input(\"enter the number\"))\n",
    "if num>0:\n",
    "    print(f\"(num) is positive\")\n",
    "else:\n",
    "    print(f\"(num)is negative\")\n"
   ]
  },
  {
   "cell_type": "markdown",
   "id": "2b94293d",
   "metadata": {},
   "source": [
    "(5)Write a Python program to get the Factorial number of given numbers."
   ]
  },
  {
   "cell_type": "code",
   "execution_count": null,
   "id": "1f38a94a",
   "metadata": {},
   "outputs": [
    {
     "name": "stdout",
     "output_type": "stream",
     "text": [
      "enter number5\n",
      "the factorial of number 5is:120\n"
     ]
    }
   ],
   "source": [
    "num= int(input(\"enter number\"))\n",
    "factorial=1\n",
    "for i in range(1,num+1):\n",
    "  factorial*=i\n",
    "print(f\"the factorial of number {num}is:{factorial}\")"
   ]
  },
  {
   "cell_type": "markdown",
   "id": "15f2ce2b",
   "metadata": {},
   "source": [
    "(6) Write a Python program to get the Fibonacci series of given range."
   ]
  },
  {
   "cell_type": "code",
   "execution_count": null,
   "id": "f7a8bf60",
   "metadata": {},
   "outputs": [
    {
     "name": "stdout",
     "output_type": "stream",
     "text": [
      "enter nth number of fibonacci series20\n",
      "fibonancci series upto 20 term\n",
      "0 1 1 2 3 5 8 13 21 34 55 89 144 233 377 610 987 1597 2584 4181 "
     ]
    }
   ],
   "source": [
    "num= int(input(\"enter nth number of fibonacci series\"))\n",
    "a=0\n",
    "b=1\n",
    "count=0\n",
    "print(f\"fibonancci series upto\",num,\"term\")\n",
    "while count < num:\n",
    "  print(a,end=\" \")\n",
    "  a,b=b,a+b\n",
    "  count+=1"
   ]
  },
  {
   "cell_type": "markdown",
   "id": "140fba3d",
   "metadata": {},
   "source": [
    "(7)How memory is managed in Python?"
   ]
  },
  {
   "cell_type": "markdown",
   "id": "88e5ee4d",
   "metadata": {},
   "source": [
    "Ans. Python manages memory automatically, using a private heap to store data structures and objects."
   ]
  },
  {
   "cell_type": "markdown",
   "id": "9639327e",
   "metadata": {},
   "source": [
    "(8) What is the purpose continuing statement in python?"
   ]
  },
  {
   "cell_type": "markdown",
   "id": "7335a147",
   "metadata": {},
   "source": [
    "Ans. The continue statement is used to skip the remaining code inside a loop for the current iteration only."
   ]
  },
  {
   "cell_type": "markdown",
   "id": "9dee7399",
   "metadata": {},
   "source": [
    "(9)Write python program that swap two number with temp variable and without temp variable."
   ]
  },
  {
   "cell_type": "code",
   "execution_count": null,
   "id": "3f1c59f5",
   "metadata": {},
   "outputs": [
    {
     "name": "stdout",
     "output_type": "stream",
     "text": [
      "before swapping\n",
      "a= 10 ,b= 15\n",
      "after swapping:\n",
      "a= 15 ,b= 10\n"
     ]
    }
   ],
   "source": [
    "a=10\n",
    "b=15\n",
    "print(\"before swapping\")\n",
    "print(\"a=\",a,\",b=\",b)\n",
    "temp=a\n",
    "a=b\n",
    "b=temp\n",
    "print(\"after swapping:\")\n",
    "print(\"a=\",a,\",b=\",b)"
   ]
  },
  {
   "cell_type": "markdown",
   "id": "8dcc5850",
   "metadata": {},
   "source": [
    "(10)Write a Python program to find whether a given number is even or odd, print out an appropriate message to the user."
   ]
  },
  {
   "cell_type": "code",
   "execution_count": null,
   "id": "4b3700f1",
   "metadata": {},
   "outputs": [
    {
     "name": "stdout",
     "output_type": "stream",
     "text": [
      "enter the num20\n",
      "even\n"
     ]
    }
   ],
   "source": [
    "num=int(input(\"enter the num\"))\n",
    "print(['even','odd'][num%2])"
   ]
  },
  {
   "cell_type": "markdown",
   "id": "7b495086",
   "metadata": {},
   "source": [
    "(11) Write a Python program to test whether a passed letter is a vowel or not."
   ]
  },
  {
   "cell_type": "code",
   "execution_count": null,
   "id": "05cedb86",
   "metadata": {},
   "outputs": [
    {
     "name": "stdout",
     "output_type": "stream",
     "text": [
      "Enter a letter: a\n",
      "a is a vowel.\n"
     ]
    }
   ],
   "source": [
    "def is_vowel(letter):\n",
    "    vowels = 'aeiouAEIOU'\n",
    "    if letter in vowels:\n",
    "        return True\n",
    "    else:\n",
    "        return False\n",
    "letter = input(\"Enter a letter: \")\n",
    "if is_vowel(letter):\n",
    "    print(f\"{letter} is a vowel.\")\n",
    "else:\n",
    "    print(f\"{letter} is not a vowel.\")"
   ]
  },
  {
   "cell_type": "markdown",
   "id": "63b600a6",
   "metadata": {},
   "source": [
    "(12) Write a Python program to sum of three given integers. However, if\n",
    "two values are equal sum will be zero."
   ]
  },
  {
   "cell_type": "code",
   "execution_count": null,
   "id": "5cbed8b8",
   "metadata": {},
   "outputs": [
    {
     "name": "stdout",
     "output_type": "stream",
     "text": [
      "enter first integer:4\n",
      "enter second integer:6\n",
      "enter third integer8\n",
      "the i is: 18\n"
     ]
    }
   ],
   "source": [
    "def sum_of_integers(a,b,c):\n",
    "  if a==b or b==c or a==c:\n",
    "      return 0\n",
    "  else:\n",
    "    return a+b+c\n",
    "num1=int(input(\"enter first integer:\"))\n",
    "num2=int(input(\"enter second integer:\"))\n",
    "num3=int(input(\"enter third integer\"))\n",
    "\n",
    "i=sum_of_integers(num1,num2,num3)\n",
    "print(\"the i is:\",i)"
   ]
  },
  {
   "cell_type": "markdown",
   "id": "e1e4229f",
   "metadata": {},
   "source": [
    "(13)Write a Python program that will return true if the two given\n",
    "integer values are equal or their sum or difference is 5."
   ]
  },
  {
   "cell_type": "code",
   "execution_count": null,
   "id": "f11d0686",
   "metadata": {},
   "outputs": [
    {
     "name": "stdout",
     "output_type": "stream",
     "text": [
      "enter first integer:5\n",
      "enter second integer:5\n",
      "the i is: True\n"
     ]
    }
   ],
   "source": [
    "def check_values(a,b):\n",
    "  if a==b or abs(a+b)== 5 or abs(a-b)==5:\n",
    "       return True\n",
    "  else:\n",
    "       return False\n",
    "num1=int(input(\"enter first integer:\"))\n",
    "num2=int(input(\"enter second integer:\"))\n",
    "i=check_values(num1,num2)\n",
    "print(\"the i is:\",i)"
   ]
  },
  {
   "cell_type": "markdown",
   "id": "c368b2c3",
   "metadata": {},
   "source": [
    "(14)Write a python program to sum of the first n positive integers."
   ]
  },
  {
   "cell_type": "code",
   "execution_count": null,
   "id": "be40971d",
   "metadata": {},
   "outputs": [
    {
     "name": "stdout",
     "output_type": "stream",
     "text": [
      "enter num:8\n",
      "8.5\n"
     ]
    }
   ],
   "source": [
    "n=int(input(\"enter num:\"))\n",
    "sum=(n+(n+1))/2\n",
    "print(sum)"
   ]
  },
  {
   "cell_type": "markdown",
   "id": "06b6bad4",
   "metadata": {},
   "source": [
    "(15)Write a Python program to calculate the length of a string."
   ]
  },
  {
   "cell_type": "code",
   "execution_count": null,
   "id": "313d87fd",
   "metadata": {},
   "outputs": [
    {
     "name": "stdout",
     "output_type": "stream",
     "text": [
      "enter string:hii sona\n",
      "8\n"
     ]
    }
   ],
   "source": [
    "str=input(\"enter string:\")\n",
    "print(len(str))\n"
   ]
  },
  {
   "cell_type": "markdown",
   "id": "7fe881cd",
   "metadata": {},
   "source": [
    "(16)Write a Python program to count the number of characters\n",
    "(character frequency) in a string"
   ]
  },
  {
   "cell_type": "code",
   "execution_count": null,
   "id": "347b9a5a",
   "metadata": {},
   "outputs": [
    {
     "name": "stdout",
     "output_type": "stream",
     "text": [
      "{'h': 1, 'e': 1, 'l': 3, 'o': 2, ' ': 1, 'w': 1, 'r': 1, 'd': 1}\n"
     ]
    }
   ],
   "source": [
    "def char_frequency(s):\n",
    "    freq = {}\n",
    "    for char in s:\n",
    "        freq[char] = freq.get(char, 0) + 1\n",
    "    return freq\n",
    "\n",
    "text = \"hello world\"\n",
    "print(char_frequency(text))"
   ]
  },
  {
   "cell_type": "markdown",
   "id": "f1ebb800",
   "metadata": {},
   "source": [
    "(17)What are negative indexes and why are they used?"
   ]
  },
  {
   "cell_type": "markdown",
   "id": "cc20e77f",
   "metadata": {},
   "source": [
    "->Negative indexes in python allow access to elements from the end of a sequence, with -1 referring to the last element.\n",
    "\n",
    "used of negative indexes\n",
    "\n",
    "-> negative indexes are used to access elements from the end of a sequence conveniently,without needing to know its length"
   ]
  },
  {
   "cell_type": "markdown",
   "id": "81047136",
   "metadata": {},
   "source": [
    "(18))Write a Python program to count occurrences of a substring in a string."
   ]
  },
  {
   "cell_type": "code",
   "execution_count": null,
   "id": "04340005",
   "metadata": {},
   "outputs": [
    {
     "name": "stdout",
     "output_type": "stream",
     "text": [
      "The substring 'sona' appears 2 times.\n"
     ]
    }
   ],
   "source": [
    "text = \"hello sona, sona say everyone\"\n",
    "substring = \"sona\"\n",
    "\n",
    "count = text.count(substring)\n",
    "print(f\"The substring '{substring}' appears {count} times.\")"
   ]
  },
  {
   "cell_type": "markdown",
   "id": "104c9636",
   "metadata": {},
   "source": [
    "(19)Write a Python program to count the occurrences of each word in a given sentence."
   ]
  },
  {
   "cell_type": "code",
   "execution_count": null,
   "id": "fddbf12b",
   "metadata": {},
   "outputs": [
    {
     "name": "stdout",
     "output_type": "stream",
     "text": [
      "Enter a sentence: 78\n",
      "78: 1\n"
     ]
    }
   ],
   "source": [
    "def count_word_occurrences(sentence):\n",
    "    words = sentence.lower().split()\n",
    "    word_counts = {}\n",
    "\n",
    "    for word in words:\n",
    "        word = ''.join(char for char in word if char.isalnum())\n",
    "        if word:\n",
    "            word_counts[word] = word_counts.get(word, 0) + 1\n",
    "\n",
    "    return word_counts\n",
    "\n",
    "\n",
    "sentence = input(\"Enter a sentence: \")\n",
    "counts = count_word_occurrences(sentence)\n",
    "\n",
    "for word, count in counts.items():\n",
    "    print(f\"{word}: {count}\")\n"
   ]
  },
  {
   "cell_type": "markdown",
   "id": "6825bf46",
   "metadata": {},
   "source": [
    "(20)Write a Python program to get a single string from two given strings,\n",
    "separated by a space and swap the first two characters of each string.\n"
   ]
  },
  {
   "cell_type": "code",
   "execution_count": null,
   "id": "07bcf73a",
   "metadata": {},
   "outputs": [],
   "source": [
    "def strings(str1,str2):\n",
    "  string=str1 + str2\n",
    "  return string\n",
    "  str1=input(\"enter the first string:\")\n",
    "  str2=input(\"enter the second string:\")\n",
    "\n",
    "  result=strings(str1,str2)\n",
    "  print(\"the string is:\",result)"
   ]
  },
  {
   "cell_type": "markdown",
   "id": "73e467f4",
   "metadata": {},
   "source": [
    "(21)Write a Python program to add 'in' at the end of a given string (length\n",
    "should be at least 3). If the given string already ends with 'ing' then\n",
    "add 'ly' instead if the string length of the given string is less than 3,\n",
    "leave it unchanged."
   ]
  },
  {
   "cell_type": "code",
   "execution_count": null,
   "id": "df174bc8",
   "metadata": {},
   "outputs": [
    {
     "name": "stdout",
     "output_type": "stream",
     "text": [
      "playing\n",
      "playingly\n",
      "go\n"
     ]
    }
   ],
   "source": [
    "def modify_string(s):\n",
    "  if len(s)<3:\n",
    "    return s\n",
    "  elif s.endswith('ing'):\n",
    "    return s+ 'ly'\n",
    "  else:\n",
    "    return s+'ing'\n",
    "print(modify_string(\"play\"))\n",
    "print(modify_string(\"playing\"))\n",
    "print(modify_string(\"go\"))"
   ]
  },
  {
   "cell_type": "markdown",
   "id": "1779e27c",
   "metadata": {},
   "source": [
    "(22)Write a Python function to reverses a string if its length is a multiple\n",
    "of 4."
   ]
  },
  {
   "cell_type": "code",
   "execution_count": null,
   "id": "45316000",
   "metadata": {},
   "outputs": [
    {
     "name": "stdout",
     "output_type": "stream",
     "text": [
      "enter a string:sona\n",
      "result: anos\n"
     ]
    }
   ],
   "source": [
    "def reverse_string_if_multiple_of_4(s):\n",
    "  if len(s)%4==0:\n",
    "    return s[::-1]\n",
    "  else:\n",
    "    return s\n",
    "user_input=input(\"enter a string:\")\n",
    "result=reverse_string_if_multiple_of_4(user_input)\n",
    "print(\"result:\",result)"
   ]
  },
  {
   "cell_type": "markdown",
   "id": "066ecd5e",
   "metadata": {},
   "source": [
    "(23)Write a Python program to get a string made of the first 2 and the last\n",
    "2 chars from a given a string. If the string length is less than 2, return\n",
    "instead of the empty string."
   ]
  },
  {
   "cell_type": "code",
   "execution_count": null,
   "id": "4c9a4c16",
   "metadata": {},
   "outputs": [
    {
     "name": "stdout",
     "output_type": "stream",
     "text": [
      "enter a string:hello sina\n",
      "result: hena\n"
     ]
    }
   ],
   "source": [
    "def create_new_string(s):\n",
    "\n",
    "  if len(s)<2:\n",
    "    return ''\n",
    "  else:\n",
    "    return s[:2]+s[-2:]\n",
    "user_input=input(\"enter a string:\")\n",
    "result=create_new_string(user_input)\n",
    "print(\"result:\",result)"
   ]
  },
  {
   "cell_type": "markdown",
   "id": "92548b3d",
   "metadata": {},
   "source": [
    "(24)Write a Python function to insert a string in the middle of a string"
   ]
  },
  {
   "cell_type": "code",
   "execution_count": null,
   "id": "0ae6bae4",
   "metadata": {},
   "outputs": [],
   "source": [
    "def insert_in_middle(original, insert):\n",
    "    return original[:len(original)//2] + insert + original[len(original)//2:]\n"
   ]
  },
  {
   "cell_type": "markdown",
   "id": "55e5cd5e",
   "metadata": {},
   "source": [
    "(25)What is List? How will you reverse a list?"
   ]
  },
  {
   "cell_type": "markdown",
   "id": "f312a6da",
   "metadata": {},
   "source": [
    "A list in python is an ordered,mutable collection of items that can contain elements of different data types.\n"
   ]
  },
  {
   "cell_type": "code",
   "execution_count": null,
   "id": "61e7d6d3",
   "metadata": {},
   "outputs": [
    {
     "name": "stdout",
     "output_type": "stream",
     "text": [
      "[7, 6, 5, 4, 3, 2, 1]\n"
     ]
    }
   ],
   "source": [
    "\n",
    "list=[1,2,3,4,5,6,7]\n",
    "list.reverse()\n",
    "print(list)"
   ]
  },
  {
   "cell_type": "markdown",
   "id": "5b432de4",
   "metadata": {},
   "source": [
    "(26)How will you remove last object from a list?"
   ]
  },
  {
   "cell_type": "code",
   "execution_count": null,
   "id": "e7c55a87",
   "metadata": {},
   "outputs": [
    {
     "name": "stdout",
     "output_type": "stream",
     "text": [
      "[1, 2, 3, 4, 5, 6]\n"
     ]
    }
   ],
   "source": [
    "list=[1,2,3,4,5,6,7]\n",
    "list.pop()\n",
    "print(list)"
   ]
  },
  {
   "cell_type": "markdown",
   "id": "0ff5fc4e",
   "metadata": {},
   "source": [
    "(27)Suppose list1 is [2, 33, 222, 14, and 25], what is list1 [-\n",
    "1]?"
   ]
  },
  {
   "cell_type": "code",
   "execution_count": null,
   "id": "e6f2c8d7",
   "metadata": {},
   "outputs": [
    {
     "name": "stdout",
     "output_type": "stream",
     "text": [
      "25\n"
     ]
    }
   ],
   "source": [
    "list= [2, 33, 222, 14,25]\n",
    "print(list[-1])"
   ]
  },
  {
   "cell_type": "markdown",
   "id": "6f8e09ca",
   "metadata": {},
   "source": [
    "(28)Differentiate between append () and extend () methods?"
   ]
  },
  {
   "cell_type": "markdown",
   "id": "40b32ddc",
   "metadata": {},
   "source": [
    "append()-adds a single element to the end of the list.if you append a list,it will be added a single nested eliment."
   ]
  },
  {
   "cell_type": "code",
   "execution_count": null,
   "id": "2e0bbbf0",
   "metadata": {},
   "outputs": [
    {
     "name": "stdout",
     "output_type": "stream",
     "text": [
      "[1, 2, 3, 4, [5, 6]]\n"
     ]
    }
   ],
   "source": [
    "list=[1,2,3,4]\n",
    "list.append([5,6])\n",
    "print(list)"
   ]
  },
  {
   "cell_type": "markdown",
   "id": "b123ddff",
   "metadata": {},
   "source": [
    "extend()-add each element of the iterble to the list individually,effectivly merging the contents"
   ]
  },
  {
   "cell_type": "code",
   "execution_count": null,
   "id": "d3f80385",
   "metadata": {},
   "outputs": [
    {
     "name": "stdout",
     "output_type": "stream",
     "text": [
      "[1, 2, 3, 4, 5, 6]\n"
     ]
    }
   ],
   "source": [
    "list=[1,2,3,4]\n",
    "list.extend([5,6])\n",
    "print(list)\n"
   ]
  },
  {
   "cell_type": "markdown",
   "id": "15f06365",
   "metadata": {},
   "source": [
    "(29)Write a Python function to get the largest number, smallest num\n",
    "and sum of all from a list.\n"
   ]
  },
  {
   "cell_type": "code",
   "execution_count": null,
   "id": "3909847c",
   "metadata": {},
   "outputs": [],
   "source": [
    "def list_statistics(numbers):\n",
    "  if not numbers:\n",
    "    return \"the list is empty.\"\n",
    "  largest=max(numbers)\n",
    "  smallest =min(numbers)\n",
    "  total_sum=sum(numbers)\n",
    "\n",
    "  return largest,smallest,total_sum\n",
    "  numbers=[10,5,20,8,15]\n",
    "  largest,smallest,total_sum=list_statistics(numbers)\n",
    "  print(\"largest number:\",largest)\n",
    "  print(\"smallest number:\",smallest)\n",
    "  print(\"sum of all numbers:\",total_sum)"
   ]
  },
  {
   "cell_type": "markdown",
   "id": "b9587f08",
   "metadata": {},
   "source": [
    "(30)How will you compare two lists?"
   ]
  },
  {
   "cell_type": "markdown",
   "id": "4439d5fd",
   "metadata": {},
   "source": [
    "compare two lists directly using the equality operator ==. This checks if both lists have the same elements in the same order."
   ]
  },
  {
   "cell_type": "code",
   "execution_count": null,
   "id": "6437dd61",
   "metadata": {},
   "outputs": [
    {
     "name": "stdout",
     "output_type": "stream",
     "text": [
      "True\n",
      "False\n"
     ]
    }
   ],
   "source": [
    "list1=[1,2,3,4,5]\n",
    "list2=[1,2,3,4,5]\n",
    "list3=[4,5,6,7,8]\n",
    "print(list1 == list2)\n",
    "print(list1 == list3)"
   ]
  },
  {
   "cell_type": "markdown",
   "id": "d4689c2b",
   "metadata": {},
   "source": [
    "(31)Write a Python program to count the number of strings where the string\n",
    "length is 2 or more and the first and last character are same from a given list\n",
    "of strings."
   ]
  },
  {
   "cell_type": "code",
   "execution_count": null,
   "id": "1bacdbbc",
   "metadata": {},
   "outputs": [
    {
     "ename": "IndentationError",
     "evalue": "unexpected indent (<ipython-input-7-7f792fb78dd8>, line 9)",
     "output_type": "error",
     "traceback": [
      "\u001b[0;36m  File \u001b[0;32m\"<ipython-input-7-7f792fb78dd8>\"\u001b[0;36m, line \u001b[0;32m9\u001b[0m\n",
      "\u001b[0;31m    print(f\"num of strings meeting the criteria is:{result}\")\u001b[0m\n",
      "\u001b[0m    ^\u001b[0m\n",
      "\u001b[0;31mIndentationError\u001b[0m\u001b[0;31m:\u001b[0m unexpected indent\n"
     ]
    }
   ],
   "source": [
    "def count_special_strings(strings):\n",
    "  count=0\n",
    "  for s in strings:\n",
    "    if len(s)>=2 and s[0]==s[-1]:\n",
    "     count+=1\n",
    "     return count\n",
    "     string_list=['abc','xyz','aba','1221','hello','a']\n",
    "     result=count_special_strings(strings)\n",
    "      print(f\"num of strings meeting the criteria is:{result}\")"
   ]
  },
  {
   "cell_type": "markdown",
   "id": "24d25a94",
   "metadata": {},
   "source": [
    "(32)Write a Python program to remove duplicates from a list."
   ]
  },
  {
   "cell_type": "code",
   "execution_count": null,
   "id": "7a246776",
   "metadata": {},
   "outputs": [
    {
     "name": "stdout",
     "output_type": "stream",
     "text": [
      "Original list: [1, 2, 3, 4, 4, 5, 6, 6, 7]\n",
      "List after removing duplicates: [1, 2, 3, 4, 5, 6, 7]\n"
     ]
    }
   ],
   "source": [
    "def remove_duplicates(input_list):\n",
    "    return list(set(input_list))\n",
    "my_list = [1, 2, 3, 4, 4, 5, 6, 6, 7]\n",
    "print(\"Original list:\", my_list)\n",
    "new_list = remove_duplicates(my_list)\n",
    "print(\"List after removing duplicates:\", new_list)\n"
   ]
  },
  {
   "cell_type": "markdown",
   "id": "61a119d2",
   "metadata": {},
   "source": []
  },
  {
   "cell_type": "markdown",
   "id": "e4ddd852",
   "metadata": {},
   "source": [
    "(33)Write a Python program to check a list is empty or not."
   ]
  },
  {
   "cell_type": "code",
   "execution_count": null,
   "id": "f0c66ddc",
   "metadata": {},
   "outputs": [],
   "source": [
    "def is_list_empty(input_list):\n",
    "   if not input_list:\n",
    "     return True\n",
    "   else:\n",
    "     return False\n",
    "test_list=[]\n",
    "result=is_list_empty(test_list)\n",
    "\n",
    "if result:\n",
    "  print(\"the list is empty.\")\n",
    "else:\n",
    "  print(\"the list is not empty.\")"
   ]
  },
  {
   "cell_type": "markdown",
   "id": "f548ad0d",
   "metadata": {},
   "source": [
    "(34)Write a Python function that takes two lists and returns true if they\n",
    "have at least one common member."
   ]
  },
  {
   "cell_type": "code",
   "execution_count": null,
   "id": "e8b540c1",
   "metadata": {},
   "outputs": [],
   "source": [
    "def have_common_member(list1,list2):\n",
    "  for item in list1:\n",
    "     return True\n",
    "  return False\n",
    "  list1=[1,2,3]\n",
    "  list2=[4,5,6]\n",
    "  print(have_common_member(list1,list2))\n",
    "  list3=[7,8,9]\n",
    "  list4=[9,10,11]\n",
    "  print(have_common_member(list3,list4))\n"
   ]
  },
  {
   "cell_type": "markdown",
   "id": "d5de0fdf",
   "metadata": {},
   "source": [
    "(35)Write a Python program to generate and print a list of first & last 5\n",
    "elements where the values are square of numbers between 1  & 30."
   ]
  },
  {
   "cell_type": "code",
   "execution_count": null,
   "id": "58f3ccda",
   "metadata": {},
   "outputs": [
    {
     "name": "stdout",
     "output_type": "stream",
     "text": [
      "list of first and last 5 elements: None\n"
     ]
    }
   ],
   "source": [
    "def generate_squares():\n",
    "     squares=[x**2 for x in range(1,31)]\n",
    "     result=squares[:5]+squares[-5:]\n",
    "print(\"list of first and last 5 elements:\",generate_squares())"
   ]
  },
  {
   "cell_type": "markdown",
   "id": "22bcc4b1",
   "metadata": {},
   "source": [
    "(36)Write a Python function that takes a list and returns a new list with\n",
    "unique elements of the first list."
   ]
  },
  {
   "cell_type": "code",
   "execution_count": null,
   "id": "82a8ba6e",
   "metadata": {},
   "outputs": [
    {
     "name": "stdout",
     "output_type": "stream",
     "text": [
      "original list: [1, 2, 2, 3, 4, 4, 5, 6, 6]\n",
      "unique elements: [1, 2, 3, 4, 5, 6]\n"
     ]
    }
   ],
   "source": [
    "def get_unique_elements(lst):\n",
    "  return list(set(lst))\n",
    "original_list=[1,2,2,3,4,4,5,6,6]\n",
    "unique_list=get_unique_elements(original_list)\n",
    "print(\"original list:\",original_list)\n",
    "print(\"unique elements:\",unique_list)"
   ]
  },
  {
   "cell_type": "markdown",
   "id": "4b3ef868",
   "metadata": {},
   "source": [
    "(37)Write a Python program to convert a list of characters into a string."
   ]
  },
  {
   "cell_type": "code",
   "execution_count": null,
   "id": "e4911591",
   "metadata": {},
   "outputs": [
    {
     "name": "stdout",
     "output_type": "stream",
     "text": [
      "the string is: Hello\n"
     ]
    }
   ],
   "source": [
    "def list_to_string(char_list):\n",
    "  result=''.join(char_list)\n",
    "  return result\n",
    "char_list=['H','e','l','l','o']\n",
    "result=list_to_string(char_list)\n",
    "print(\"the string is:\",result)\n"
   ]
  },
  {
   "cell_type": "markdown",
   "id": "c96bf418",
   "metadata": {},
   "source": [
    "(38)Write a Python program to select an item randomly from a list.\n"
   ]
  },
  {
   "cell_type": "code",
   "execution_count": null,
   "id": "6a496dc8",
   "metadata": {},
   "outputs": [],
   "source": [
    "import random\n",
    "def select_random_item(input_list):\n",
    "     return random.choice(input_list)\n",
    "my_list=[1,2,3,4,5,6,7]\n",
    "random_item=select_random_item(my_list)\n",
    "print(\"randomy selected item:\",random_item)\n"
   ]
  },
  {
   "cell_type": "code",
   "execution_count": null,
   "id": "92619b71",
   "metadata": {},
   "outputs": [],
   "source": [
    "(39)Write a Python program to find the second smallest number in a list."
   ]
  },
  {
   "cell_type": "code",
   "execution_count": null,
   "id": "681555fb",
   "metadata": {},
   "outputs": [
    {
     "name": "stdout",
     "output_type": "stream",
     "text": [
      "second smallest number is:14\n"
     ]
    }
   ],
   "source": [
    "def  find_second_smallest(numbers):\n",
    "  unique_numbers=list(set(numbers))\n",
    "  if len(unique_numbers)<2:\n",
    "    return None\n",
    "  unique_numbers.sort()\n",
    "  return unique_numbers[1]\n",
    "numbers=[2,33,222,14,25]\n",
    "second_smallest=find_second_smallest(numbers)\n",
    "if second_smallest is not None:\n",
    "  print(f\"second smallest number is:{second_smallest}\")\n",
    "else:\n",
    "  print(\"there are not enough unique numbers to find the second smallest.\")"
   ]
  },
  {
   "cell_type": "markdown",
   "id": "427f1379",
   "metadata": {},
   "source": [
    "(40)Write a Python program to get unique values from a list"
   ]
  },
  {
   "cell_type": "code",
   "execution_count": null,
   "id": "24227b9b",
   "metadata": {},
   "outputs": [
    {
     "name": "stdout",
     "output_type": "stream",
     "text": [
      "unique values: [1, 2, 3, 4]\n"
     ]
    }
   ],
   "source": [
    "def get_unique_values(arr):\n",
    "  return list(set(arr))\n",
    "arr=[1,2,3,4,2,3,4,1]\n",
    "unique_values=get_unique_values(arr)\n",
    "print(\"unique values:\",unique_values)"
   ]
  },
  {
   "cell_type": "markdown",
   "id": "5064f2b6",
   "metadata": {},
   "source": [
    "(41))Write a Python program to check whether a list contains a sub list"
   ]
  },
  {
   "cell_type": "code",
   "execution_count": null,
   "id": "ac9b4dc2",
   "metadata": {},
   "outputs": [
    {
     "name": "stdout",
     "output_type": "stream",
     "text": [
      "sublist[30, 40] is found in the main list [10, 20, 30, 40, 50].\n"
     ]
    }
   ],
   "source": [
    "main_list=[10,20,30,40,50]\n",
    "sub_list=[30,40]\n",
    "def contains_sublist(main_list,sub_list):\n",
    "  if not sub_list:\n",
    "    return True\n",
    "  for i in range(len(main_list)-len(sub_list)+1):\n",
    "    if main_list[i:i+len(sub_list)]==sub_list:\n",
    "       return True\n",
    "       return False\n",
    "if contains_sublist(main_list,sub_list):\n",
    "  print(f\"sublist{sub_list} is found in the main list {main_list}.\")\n",
    "else:\n",
    "  print(f\"sublist {sub_list} is not found in the main list{main_list}.\")\n"
   ]
  },
  {
   "cell_type": "markdown",
   "id": "a675ab14",
   "metadata": {},
   "source": [
    "(42)Write a Python program to split a list into different variables."
   ]
  },
  {
   "cell_type": "code",
   "execution_count": null,
   "id": "101cfa0e",
   "metadata": {},
   "outputs": [
    {
     "name": "stdout",
     "output_type": "stream",
     "text": [
      "a: 1\n",
      "b: 2\n",
      "c: 3\n"
     ]
    }
   ],
   "source": [
    "my_list=[1,2,3]\n",
    "a,b,c=my_list\n",
    "print(\"a:\",a)\n",
    "print(\"b:\",b)\n",
    "print(\"c:\",c)"
   ]
  },
  {
   "cell_type": "markdown",
   "id": "ff29509c",
   "metadata": {},
   "source": [
    "(43)What is tuple? Difference between list and tuple"
   ]
  },
  {
   "cell_type": "markdown",
   "id": "00320bce",
   "metadata": {},
   "source": [
    "tuple->-> Atuple in python is an immutable,ordered collection of elements,defined using parentheses() and can store multiple data types.\n",
    "\n",
    "difference btw list & tuple:\n",
    "\n",
    "      \n",
    "Changeable:\n",
    "\n",
    "        list-> you can change,add or remove items.\n",
    "        tuple->you cannot change the items.\n",
    "\n",
    "\n",
    "syntax:\n",
    "\n",
    "        list: written with square brackets[]\n",
    "        tuple:written with parentheses()\n",
    "\n",
    "\n",
    "\n",
    "Speed:\n",
    "\n",
    "        list->slower because it's changeable\n",
    "        tuple-> faster because it's fixed\n",
    "\n",
    "        \n",
    "Use:\n",
    "\n",
    "        list-> for data that can change\n",
    "        tuple-> for data that stays constant        \n",
    "       \n"
   ]
  },
  {
   "cell_type": "markdown",
   "id": "79f37e1a",
   "metadata": {},
   "source": [
    "(44) write a python program to create a tuple with different data types."
   ]
  },
  {
   "cell_type": "code",
   "execution_count": null,
   "id": "18488042",
   "metadata": {},
   "outputs": [
    {
     "name": "stdout",
     "output_type": "stream",
     "text": [
      "tuple with different data types: (42, 'hello', 3.14, True, [1, 2, 3, 4], {'key': 'value'})\n"
     ]
    }
   ],
   "source": [
    "dtype_tuple=(42,\"hello\",3.14,True,[1,2,3,4],{\"key\":\"value\"})\n",
    "print(\"tuple with different data types:\",dtype_tuple)"
   ]
  },
  {
   "cell_type": "markdown",
   "id": "ff7e774c",
   "metadata": {},
   "source": [
    "(45) write a pyhton program to unzip a list of tuples into individual lists."
   ]
  },
  {
   "cell_type": "code",
   "execution_count": null,
   "id": "f8202f01",
   "metadata": {},
   "outputs": [
    {
     "name": "stdout",
     "output_type": "stream",
     "text": [
      "[1, 4, 7]\n",
      "[2, 5, 8]\n",
      "[3, 6, 9]\n"
     ]
    }
   ],
   "source": [
    "tuples = [(1, 2, 3), (4, 5, 6), (7, 8, 9)]\n",
    "unzipped = list(zip(*tuples))\n",
    "unzipped_lists = [list(item) for item in unzipped]\n",
    "for lst in unzipped_lists:\n",
    "    print(lst)"
   ]
  },
  {
   "cell_type": "markdown",
   "id": "f9595f0a",
   "metadata": {},
   "source": [
    "(46)Write a Python program to convert a list of tuples into a dictionary.\n"
   ]
  },
  {
   "cell_type": "code",
   "execution_count": null,
   "id": "24f8e6a1",
   "metadata": {},
   "outputs": [],
   "source": [
    "def list_of_tuples_to_dict(tuples_list):\n",
    "  result_dict={key: value for key,value in tuples_list}\n",
    "  return result_dict\n",
    "  tuples_list=[(1,'a'),(2,'b'),(3,'c')]\n",
    "  result_dict=list_of_tuples_to_dict(tuples_list)\n",
    "  print(\"dictionary:\",result_dict)"
   ]
  },
  {
   "cell_type": "markdown",
   "id": "839eee92",
   "metadata": {},
   "source": [
    "(47)How will you create a dictionary using tuples in python?\n"
   ]
  },
  {
   "cell_type": "code",
   "execution_count": null,
   "id": "8dcc5c63",
   "metadata": {},
   "outputs": [],
   "source": [
    "tuple_list = [('a', 1), ('b', 2), ('c', 3)]\n",
    "dictionary = dict(tuple_list)\n",
    "print(dictionary)"
   ]
  },
  {
   "cell_type": "markdown",
   "id": "b506ff69",
   "metadata": {},
   "source": [
    "(48)Write a Python script to sort (ascending and descending) a\n",
    "dictionary by value.\n"
   ]
  },
  {
   "cell_type": "code",
   "execution_count": null,
   "id": "53bdd982",
   "metadata": {},
   "outputs": [
    {
     "name": "stdout",
     "output_type": "stream",
     "text": [
      "sorted in ascending order: {'b': 1, 'c': 2, 'a': 3}\n"
     ]
    }
   ],
   "source": [
    "def sort_dict_by_value_ascending(input_dict):\n",
    "  sorted_dict=dict(sorted(input_dict.items(),key=lambda item:item[1]))\n",
    "  return sorted_dict\n",
    "input_dict={'a':3,'b':1,'c':2}\n",
    "sorted_ascending=sort_dict_by_value_ascending(input_dict)\n",
    "print(\"sorted in ascending order:\",sorted_ascending)"
   ]
  },
  {
   "cell_type": "markdown",
   "id": "2fdfca92",
   "metadata": {},
   "source": [
    "(49)Write a Python script to concatenate following dictionaries to create\n",
    "a new one.\n"
   ]
  },
  {
   "cell_type": "code",
   "execution_count": null,
   "id": "a28934be",
   "metadata": {},
   "outputs": [],
   "source": [
    "def concatenate_dicts(*dicts):\n",
    "  result_dict={}\n",
    "  for dictionary in dicts:\n",
    "       results_dict.update(dictionary)\n",
    "  return result_dict\n",
    "  dict1={'a':1,'b':2}\n",
    "  dict2={'c':3,'d':4}\n",
    "  new_dict=concatenate_dicts(dict1,dict2)\n",
    "  print(\"concatenated dictionary:\",new_dict)"
   ]
  },
  {
   "cell_type": "markdown",
   "id": "7e6d210e",
   "metadata": {},
   "source": [
    "(50)Write a Python script to check if a given key already exists in a\n",
    "dictionary.\n"
   ]
  },
  {
   "cell_type": "code",
   "execution_count": null,
   "id": "541e9919",
   "metadata": {},
   "outputs": [
    {
     "name": "stdout",
     "output_type": "stream",
     "text": [
      "'banana' exists in the dictionary.\n"
     ]
    }
   ],
   "source": [
    "sample_dict = {'apple': 4, 'banana': 2, 'cherry': 5, 'date': 3}\n",
    "key_to_check = 'banana'\n",
    "if key_to_check in sample_dict:\n",
    "    print(f\"'{key_to_check}' exists in the dictionary.\")\n",
    "else:\n",
    "    print(f\"'{key_to_check}' does not exist in the dictionary.\")"
   ]
  },
  {
   "cell_type": "markdown",
   "id": "df460940",
   "metadata": {},
   "source": [
    "(51)How Do You Traverse Through a Dictionary Object in Python?"
   ]
  },
  {
   "cell_type": "code",
   "execution_count": null,
   "id": "9ab3c7eb",
   "metadata": {},
   "outputs": [
    {
     "name": "stdout",
     "output_type": "stream",
     "text": [
      "key:a\n",
      "key:b\n",
      "key:c\n",
      "value:1\n",
      "value:2\n",
      "value:3\n"
     ]
    }
   ],
   "source": [
    "my_dict={'a':1,'b':2,'c':3}\n",
    "for key in my_dict:\n",
    "   print(f\"key:{key}\")\n",
    "for value in my_dict.values():\n",
    "  print(f\"value:{value}\")\n"
   ]
  },
  {
   "cell_type": "markdown",
   "id": "5c4738b5",
   "metadata": {},
   "source": [
    "(52)How Do You Check the Presence of a Key in A Dictionary?"
   ]
  },
  {
   "cell_type": "code",
   "execution_count": null,
   "id": "d564da59",
   "metadata": {},
   "outputs": [
    {
     "name": "stdout",
     "output_type": "stream",
     "text": [
      "the key 'b'exists in the dictionary.\n"
     ]
    }
   ],
   "source": [
    "my_dict={'a':1,'b':2,'c':3}\n",
    "key_to_check='b'\n",
    "\n",
    "if key_to_check in my_dict:\n",
    "  print(f\"the key '{key_to_check}'exists in the dictionary.\")\n",
    "else:\n",
    "  print(f\"the key '{key_to_check}' does not exist in the dictionary.\")\n"
   ]
  },
  {
   "cell_type": "markdown",
   "id": "7059cc5b",
   "metadata": {},
   "source": [
    "(53)Write a Python script to print a dictionary where the keys are\n",
    "numbers between 1 and 15."
   ]
  },
  {
   "cell_type": "code",
   "execution_count": null,
   "id": "87d0bd16",
   "metadata": {},
   "outputs": [
    {
     "name": "stdout",
     "output_type": "stream",
     "text": [
      "{1: 1, 2: 4, 3: 9, 4: 16, 5: 25, 6: 36, 7: 49, 8: 64, 9: 81, 10: 100, 11: 121, 12: 144, 13: 169, 14: 196, 15: 225}\n"
     ]
    }
   ],
   "source": [
    "number_dict = {i: i**2 for i in range(1, 16)}\n",
    "print(number_dict)"
   ]
  },
  {
   "cell_type": "markdown",
   "id": "450803af",
   "metadata": {},
   "source": [
    "(54)Write a Python program to check multiple keys exists in a dictionary"
   ]
  },
  {
   "cell_type": "code",
   "execution_count": null,
   "id": "dd6a8cea",
   "metadata": {},
   "outputs": [
    {
     "name": "stdout",
     "output_type": "stream",
     "text": [
      "Not all the keys exist in the dictionary.\n"
     ]
    }
   ],
   "source": [
    "sample_dict = {'apple': 4, 'banana': 2, 'cherry': 5, 'date': 3}\n",
    "keys_to_check = ['apple', 'banana', 'kiwi']\n",
    "all_keys_exist = all(key in sample_dict for key in keys_to_check)\n",
    "if all_keys_exist:\n",
    "    print(\"All the keys exist in the dictionary.\")\n",
    "else:\n",
    "    print(\"Not all the keys exist in the dictionary.\")"
   ]
  },
  {
   "cell_type": "markdown",
   "id": "16509cd3",
   "metadata": {},
   "source": [
    "(55)Write a Python script to merge two Python dictionaries"
   ]
  },
  {
   "cell_type": "code",
   "execution_count": null,
   "id": "062dcbdd",
   "metadata": {},
   "outputs": [
    {
     "name": "stdout",
     "output_type": "stream",
     "text": [
      "{'a': 1, 'b': 2, 'c': 3, 'd': 4}\n"
     ]
    }
   ],
   "source": [
    "dict1 = {'a': 1, 'b': 2}\n",
    "dict2 = {'c': 3, 'd': 4}\n",
    "dict1.update(dict2)\n",
    "print(dict1)"
   ]
  },
  {
   "cell_type": "markdown",
   "id": "9c156c34",
   "metadata": {},
   "source": [
    "(56)Write a Python program to map two lists into a dictionary\n",
    "Sample output: Counter ({'a': 400, 'b': 400,’d’: 400, 'c': 300})."
   ]
  },
  {
   "cell_type": "code",
   "execution_count": null,
   "id": "5cf6410e",
   "metadata": {},
   "outputs": [
    {
     "name": "stdout",
     "output_type": "stream",
     "text": [
      "Counter({'a': 400, 'b': 400, 'd': 400, 'c': 300})\n"
     ]
    }
   ],
   "source": [
    "from collections import Counter\n",
    "keys = ['a', 'b', 'd', 'c']\n",
    "values = [400, 400, 400, 300]\n",
    "mapped_dict = dict(zip(keys, values))\n",
    "counter_dict = Counter(mapped_dict)\n",
    "print(counter_dict)"
   ]
  },
  {
   "cell_type": "markdown",
   "id": "6c7e0324",
   "metadata": {},
   "source": [
    "(57)Write a Python program to find the highest 3 values in a dictionary"
   ]
  },
  {
   "cell_type": "code",
   "execution_count": null,
   "id": "f3c8ec97",
   "metadata": {},
   "outputs": [
    {
     "name": "stdout",
     "output_type": "stream",
     "text": [
      "The highest 3 values in the dictionary are:\n",
      "d: 400\n",
      "e: 300\n",
      "b: 200\n"
     ]
    }
   ],
   "source": [
    "sample_dict = {'a': 50, 'b': 200, 'c': 150, 'd': 400, 'e': 300}\n",
    "top_3 = sorted(sample_dict.items(), key=lambda item: item[1], reverse=True)[:3]\n",
    "print(\"The highest 3 values in the dictionary are:\")\n",
    "for key, value in top_3:\n",
    "    print(f\"{key}: {value}\")"
   ]
  },
  {
   "cell_type": "markdown",
   "id": "d2951e5b",
   "metadata": {},
   "source": [
    "(58)Write a Python program to combine values in python list of dictionaries.\n",
    "Sample data: [{'item': 'item1', 'amount': 400}, {'item': 'item2', 'amount':\n",
    "300}, o {'item': 'item1', 'amount': 750}]\n",
    "Expected Output:\n",
    "• Counter ({'item1': 1150, 'item2': 300})"
   ]
  },
  {
   "cell_type": "code",
   "execution_count": null,
   "id": "3c6374cc",
   "metadata": {},
   "outputs": [
    {
     "name": "stdout",
     "output_type": "stream",
     "text": [
      "Counter({'item1': 1150, 'item2': 300})\n"
     ]
    }
   ],
   "source": [
    "from collections import Counter\n",
    "data = [{'item': 'item1', 'amount': 400}, {'item': 'item2', 'amount': 300}, {'item': 'item1', 'amount': 750}]\n",
    "counter = Counter()\n",
    "\n",
    "for entry in data:\n",
    "    counter[entry['item']] += entry['amount']\n",
    "print(counter)"
   ]
  },
  {
   "cell_type": "markdown",
   "id": "811df72a",
   "metadata": {},
   "source": [
    "(59)Write a Python program to create a dictionary from a string.\n",
    "Note: Track the count of the letters from the string."
   ]
  },
  {
   "cell_type": "code",
   "execution_count": null,
   "id": "f8b1e9ec",
   "metadata": {},
   "outputs": [
    {
     "name": "stdout",
     "output_type": "stream",
     "text": [
      "{'s': 1, 'u': 1, 'k': 1, 'a': 2, 'n': 1, 'y': 1}\n"
     ]
    }
   ],
   "source": [
    "input_string = \"sukanya\"\n",
    "letter_count = {}\n",
    "for letter in input_string:\n",
    "    if letter in letter_count:\n",
    "        letter_count[letter] += 1\n",
    "    else:\n",
    "        letter_count[letter] = 1\n",
    "print(letter_count)"
   ]
  },
  {
   "cell_type": "markdown",
   "id": "78716da7",
   "metadata": {},
   "source": [
    "(60))Sample string:\n",
    " 'w3resource' Expected output:\n",
    "• {'3': 1,’s’: 1, 'r': 2, 'u': 1, 'w': 1, 'c': 1, 'e': 2, 'o': 1}"
   ]
  },
  {
   "cell_type": "code",
   "execution_count": null,
   "id": "c8f34293",
   "metadata": {},
   "outputs": [
    {
     "name": "stdout",
     "output_type": "stream",
     "text": [
      "{'h': 1, 'e': 1, 'l': 3, 'o': 2, 'w': 1, 'r': 1, 'd': 1}\n"
     ]
    }
   ],
   "source": [
    "input_string = \"helloworld\"\n",
    "letter_count = {}\n",
    "for char in input_string:\n",
    "    if char in letter_count:\n",
    "        letter_count[char] += 1\n",
    "    else:\n",
    "        letter_count[char] = 1\n",
    "print(letter_count)"
   ]
  },
  {
   "cell_type": "markdown",
   "id": "f18ffc7e",
   "metadata": {},
   "source": [
    "(61)Write a Python function to calculate the factorial of a number (a\n",
    "nonnegative integer)\n"
   ]
  },
  {
   "cell_type": "code",
   "execution_count": null,
   "id": "10c5f0dc",
   "metadata": {},
   "outputs": [
    {
     "name": "stdout",
     "output_type": "stream",
     "text": [
      "Factorial of 10 is 3628800\n"
     ]
    }
   ],
   "source": [
    "def factorial(n):\n",
    "    if n < 0:\n",
    "        return \"Factorial is not defined for negative numbers\"\n",
    "\n",
    "    result = 1\n",
    "    for i in range(1, n + 1):\n",
    "        result *= i\n",
    "    return result\n",
    "num = 10\n",
    "print(f\"Factorial of {num} is {factorial(num)}\")"
   ]
  },
  {
   "cell_type": "markdown",
   "id": "6c5bea9e",
   "metadata": {},
   "source": [
    "(62)Write a Python function to check whether a number is in a given range"
   ]
  },
  {
   "cell_type": "code",
   "execution_count": null,
   "id": "11829da6",
   "metadata": {},
   "outputs": [
    {
     "name": "stdout",
     "output_type": "stream",
     "text": [
      "Is 5 in the range 1 to 10? True\n"
     ]
    }
   ],
   "source": [
    "def is_in_range(number, start, end):\n",
    "    if start <= number <= end:\n",
    "        return True\n",
    "    else:\n",
    "        return False\n",
    "number = 5\n",
    "start = 1\n",
    "end = 10\n",
    "print(f\"Is {number} in the range {start} to {end}? {is_in_range(number, start, end)}\")"
   ]
  },
  {
   "cell_type": "markdown",
   "id": "6579c31f",
   "metadata": {},
   "source": [
    "(63))Write a Python function to check whether a number is perfect or not."
   ]
  },
  {
   "cell_type": "code",
   "execution_count": null,
   "id": "0f88b556",
   "metadata": {},
   "outputs": [],
   "source": [
    "def is_perfect_number(n):\n",
    "  if n <=0:\n",
    "    return False\n",
    "  sum_of_divisors=0\n",
    "  for i in range(1,n):\n",
    "    if n%i==0:\n",
    "      sum_of_divisors +=i\n",
    "    return sum_of_divisors==n\n",
    "\n",
    "  print(f\"{num}is a perfect num.\")\n",
    "\n",
    "  print(f\"{num}is not a perfect num\")"
   ]
  },
  {
   "cell_type": "markdown",
   "id": "a8de7ac8",
   "metadata": {},
   "source": [
    "(64)Write a Python function that checks whether a passed string is\n",
    "palindrome or not"
   ]
  },
  {
   "cell_type": "code",
   "execution_count": null,
   "id": "9e4830b6",
   "metadata": {},
   "outputs": [
    {
     "name": "stdout",
     "output_type": "stream",
     "text": [
      "False\n",
      "True\n"
     ]
    }
   ],
   "source": [
    "def is_palindrome(s: str) -> bool:\n",
    "    s = s.replace(\" \", \"\").lower()\n",
    "    return s == s[::-1]\n",
    "\n",
    "print(is_palindrome(\"i am sukanya\"))\n",
    "print(is_palindrome(\"aba\"))"
   ]
  },
  {
   "cell_type": "markdown",
   "id": "14f9a401",
   "metadata": {},
   "source": [
    "(65)How Many Basic Types of Functions Are Available in Python?"
   ]
  },
  {
   "cell_type": "markdown",
   "id": "f51665c9",
   "metadata": {},
   "source": [
    "Two type of function in python:\n",
    "\n",
    "1->built-in function:  There are already available in python print(),len(),type(),sum() etc\n",
    "\n",
    "2->user defined function:  functions created by user to perform specific tasks."
   ]
  },
  {
   "cell_type": "markdown",
   "id": "5455898d",
   "metadata": {},
   "source": []
  },
  {
   "cell_type": "markdown",
   "id": "1161d0d4",
   "metadata": {},
   "source": [
    "(66)How can you pick a random item from a list or tuple?"
   ]
  },
  {
   "cell_type": "code",
   "execution_count": null,
   "id": "41c8bbcd",
   "metadata": {},
   "outputs": [
    {
     "name": "stdout",
     "output_type": "stream",
     "text": [
      "5\n"
     ]
    }
   ],
   "source": [
    " import random\n",
    " my_list=[1,2,3,4,5]\n",
    "random_item=random.choice(my_list)\n",
    "print(random_item)"
   ]
  },
  {
   "cell_type": "markdown",
   "id": "999a01ba",
   "metadata": {},
   "source": [
    "(67)How can you pick a random item from a range?"
   ]
  },
  {
   "cell_type": "code",
   "execution_count": null,
   "id": "50f136e8",
   "metadata": {},
   "outputs": [
    {
     "name": "stdout",
     "output_type": "stream",
     "text": [
      "1\n"
     ]
    }
   ],
   "source": [
    "import random\n",
    "random_item=random.choice(range(1,10))\n",
    "print(random_item)"
   ]
  },
  {
   "cell_type": "markdown",
   "id": "45444d10",
   "metadata": {},
   "source": [
    "(68)How can you get a random number in python?\n"
   ]
  },
  {
   "cell_type": "code",
   "execution_count": null,
   "id": "07181287",
   "metadata": {},
   "outputs": [
    {
     "name": "stdout",
     "output_type": "stream",
     "text": [
      "0.21994316581883522\n"
     ]
    }
   ],
   "source": [
    "import random\n",
    "num=random.random()\n",
    "print(num)"
   ]
  },
  {
   "cell_type": "markdown",
   "id": "e8111a6d",
   "metadata": {},
   "source": [
    "(69)How will you set the starting value in generating random numbers?"
   ]
  },
  {
   "cell_type": "code",
   "execution_count": null,
   "id": "49c2d611",
   "metadata": {},
   "outputs": [
    {
     "name": "stdout",
     "output_type": "stream",
     "text": [
      "9\n"
     ]
    }
   ],
   "source": [
    "import random\n",
    "random.seed(56)\n",
    "print(random.randint(1,10))"
   ]
  },
  {
   "cell_type": "markdown",
   "id": "4f007824",
   "metadata": {},
   "source": [
    "(70)How will you randomize the items of a list in place?"
   ]
  },
  {
   "cell_type": "code",
   "execution_count": null,
   "id": "681071f8",
   "metadata": {},
   "outputs": [
    {
     "name": "stdout",
     "output_type": "stream",
     "text": [
      "[2, 1, 4, 5, 3]\n"
     ]
    }
   ],
   "source": [
    "import random\n",
    "my_list=[1,2,3,4,5]\n",
    "random.shuffle(my_list)\n",
    "print(my_list)"
   ]
  },
  {
   "cell_type": "markdown",
   "id": "3f24c308",
   "metadata": {},
   "source": [
    "(71)What is File function in python? What are keywords to create\n",
    "and write file."
   ]
  },
  {
   "cell_type": "markdown",
   "id": "968b3c71",
   "metadata": {},
   "source": [
    "-->file functions in python allow you to work with files,like reading from or writing to them To create and write to a file , you use the open() function."
   ]
  },
  {
   "cell_type": "code",
   "execution_count": null,
   "id": "4c27fcd4",
   "metadata": {},
   "outputs": [],
   "source": [
    "# write mode:\n",
    "\n",
    "with open(\"example.txt\",\"w\") as file:\n",
    "  file.write(\"hello,world!\")"
   ]
  },
  {
   "cell_type": "code",
   "execution_count": null,
   "id": "41f02aef",
   "metadata": {},
   "outputs": [],
   "source": [
    "# append mode\n",
    "with open(\"example.txt\",\"a\") as file:\n",
    "  file.write(\"/nAppending this line.\")"
   ]
  },
  {
   "cell_type": "markdown",
   "id": "0545e307",
   "metadata": {},
   "source": [
    "(72)write a python program to read  an entire text file."
   ]
  },
  {
   "cell_type": "code",
   "execution_count": null,
   "id": "45efb589",
   "metadata": {},
   "outputs": [
    {
     "name": "stdout",
     "output_type": "stream",
     "text": [
      "file content:\n",
      " hello,world!\n"
     ]
    }
   ],
   "source": [
    "def read_file(file_path):\n",
    "  with open(file_path,'r')as file:\n",
    "    content=file.read()\n",
    "  return content\n",
    "file_path='example.txt'\n",
    "file_content=read_file(file_path)\n",
    "print(\"file content:\\n\",file_content)"
   ]
  },
  {
   "cell_type": "markdown",
   "id": "16b808ca",
   "metadata": {},
   "source": [
    "(73)write a python program to append text to a file and display the text."
   ]
  },
  {
   "cell_type": "code",
   "execution_count": null,
   "id": "85aa1d4d",
   "metadata": {},
   "outputs": [],
   "source": [
    "def append_read_file(file_path,text_to_append):\n",
    "  with open(file_path,'a')as file:\n",
    "    file.write(text_to_append+\"/n\")\n",
    "  with open(file_path,'r')as file:\n",
    "    content=file.read()\n",
    "    return content"
   ]
  },
  {
   "cell_type": "markdown",
   "id": "ac52f6d8",
   "metadata": {},
   "source": [
    "(74)write a python program to read first n lines of a file."
   ]
  },
  {
   "cell_type": "code",
   "execution_count": null,
   "id": "75ef4e45",
   "metadata": {},
   "outputs": [],
   "source": [
    "def read_first_n_lines(file_path,n):\n",
    "  with open(file_path,'r')as file:\n",
    "    for i in range(n):\n",
    "      line=file.readline()\n",
    "      if line:\n",
    "        print(line.strip())\n",
    "      else:\n",
    "        break\n",
    "file_path='example.txt'\n",
    "n=3\n",
    "read_first_n_lines(file_path,n)"
   ]
  },
  {
   "cell_type": "markdown",
   "id": "0b13d2ef",
   "metadata": {},
   "source": [
    "(75)write a python program to read last n line of a file."
   ]
  },
  {
   "cell_type": "code",
   "execution_count": null,
   "id": "aefd6a8f",
   "metadata": {},
   "outputs": [],
   "source": [
    "def read_last_n_lines(file_path,n):\n",
    "  with open(file_path,'r')as file:\n",
    "    lines=file.readlines()\n",
    "\n",
    "    last_n_lines=lines[-n:]\n",
    "    for line in last_n_lines:\n",
    "      print(line,strip())\n",
    "\n",
    "file_path='example.txt'\n",
    "n=3\n",
    "read_first_n_lines(file_path,n)\n"
   ]
  },
  {
   "cell_type": "markdown",
   "id": "a27e20cd",
   "metadata": {},
   "source": [
    "(76)Write a Python program to read a file line by line and store it into a list"
   ]
  },
  {
   "cell_type": "code",
   "execution_count": null,
   "id": "943e4ab1",
   "metadata": {},
   "outputs": [
    {
     "name": "stdout",
     "output_type": "stream",
     "text": [
      "['hello,world!']\n"
     ]
    }
   ],
   "source": [
    "def read_file_to_list(file_path):\n",
    "    try:\n",
    "           with open(file_path,'r')as file:\n",
    "               lines=file.readlines()\n",
    "               line_list=[line.strip()for line in lines]\n",
    "           return line_list\n",
    "    except FileNotFoundError:\n",
    "      print(\"error: file was not found.\")\n",
    "    return []\n",
    "file_path=\"example.txt\"\n",
    "lines_list=read_file_to_list(file_path)\n",
    "print(lines_list)\n"
   ]
  },
  {
   "cell_type": "markdown",
   "id": "965d791e",
   "metadata": {},
   "source": [
    "(77)Write a Python program to read a file line by line store it into a variable."
   ]
  },
  {
   "cell_type": "code",
   "execution_count": null,
   "id": "945abce1",
   "metadata": {},
   "outputs": [
    {
     "name": "stdout",
     "output_type": "stream",
     "text": [
      "the file 'sample.txt' does not exist.\n"
     ]
    }
   ],
   "source": [
    "def read_file_to_variable(file_path):\n",
    "  with open(file_path,'r') as file:\n",
    "      content=file.readlines()\n",
    "  return content\n",
    "file_path='sample.txt'\n",
    "\n",
    "try:\n",
    "    file_content=read_file_to_variable(file_path)\n",
    "    print(\"file content stored in variable:\")\n",
    "    print(file_content)\n",
    "except FileNotFoundError:\n",
    "    print(f\"the file '{file_path}' does not exist.\")\n",
    "\n",
    "\n"
   ]
  },
  {
   "cell_type": "markdown",
   "id": "ee119442",
   "metadata": {},
   "source": [
    "(78)Write a python program to find the longest words.\n"
   ]
  },
  {
   "cell_type": "code",
   "execution_count": null,
   "id": "174dee1d",
   "metadata": {},
   "outputs": [
    {
     "name": "stdout",
     "output_type": "stream",
     "text": [
      "longest word(s): ['quick', 'brown', 'jumps']\n"
     ]
    }
   ],
   "source": [
    "def find_longest_words(text):\n",
    "    words =text.split()\n",
    "    max_length=max(len(word) for word in words)\n",
    "    return [word for word in words if len(word)==max_length]\n",
    "text=\"the quick brown for jumps over the lazy dog\"\n",
    "print(\"longest word(s):\",find_longest_words(text))"
   ]
  },
  {
   "cell_type": "markdown",
   "id": "ccb2ab93",
   "metadata": {},
   "source": [
    "(79)Write a Python program to count the number of lines in a text file.\n"
   ]
  },
  {
   "cell_type": "code",
   "execution_count": null,
   "id": "8cdd6a29",
   "metadata": {},
   "outputs": [
    {
     "name": "stdout",
     "output_type": "stream",
     "text": [
      "specified file was not found.\n",
      "number of lines in the file:0\n"
     ]
    }
   ],
   "source": [
    "def count_lines(file_path):\n",
    "  try:\n",
    "     with open(file_path,'r')as file:\n",
    "      lines=file.readlines()\n",
    "     return len(lines)\n",
    "  except FileNotFoundError:\n",
    "    print(\"specified file was not found.\")\n",
    "    return 0\n",
    "  except Exception as e:\n",
    "    print(f\"error occurred:{e}\")\n",
    "    return 0\n",
    "file_path='sample.txt'\n",
    "line_count=count_lines(file_path)\n",
    "print(f\"number of lines in the file:{line_count}\")\n"
   ]
  },
  {
   "cell_type": "markdown",
   "id": "afbe83ef",
   "metadata": {},
   "source": [
    "(80)Write a Python program to count the frequency of words in a file.\n"
   ]
  },
  {
   "cell_type": "markdown",
   "id": "f8f4bb43",
   "metadata": {},
   "source": [
    "file_path='example.txt'\n",
    "word_frequencies= count_word_frequency(file_path)\n",
    "print(\"word frequencies:\")\n",
    "for word,frequency in word_frequencies.items():\n",
    "  print(f\"{word}:{frequency}\")\n"
   ]
  },
  {
   "cell_type": "markdown",
   "id": "7feed27e",
   "metadata": {},
   "source": [
    "(81)Write a Python program to write a list to a file.\n"
   ]
  },
  {
   "cell_type": "code",
   "execution_count": null,
   "id": "a314565e",
   "metadata": {},
   "outputs": [
    {
     "name": "stdout",
     "output_type": "stream",
     "text": [
      "the list has been written to output.txt\n"
     ]
    }
   ],
   "source": [
    "# python program to write a list to a file\n",
    "# list of items to write to the file\n",
    "items =[\"python\",\"file writing\",\"lists\"]\n",
    "file_name=\"output.txt\"\n",
    "with open(file_name,'w')as file:\n",
    "     for item in items:\n",
    "      file.write(item+\"\\n\")\n",
    "     print(f\"the list has been written to {file_name}\")\n"
   ]
  },
  {
   "cell_type": "markdown",
   "id": "7b85d35f",
   "metadata": {},
   "source": [
    "(82)Write a Python program to copy the contents of a file to another file."
   ]
  },
  {
   "cell_type": "code",
   "execution_count": null,
   "id": "e856908c",
   "metadata": {},
   "outputs": [],
   "source": [
    "def copy_file(source_file_path,destination_file_path):\n",
    "   with open(source_file_path,'r')as source_file:\n",
    "     content=source_file.read()\n",
    "   with open(destination_file_path,'w') as destination_file:\n",
    "     destination_file.write(content)\n"
   ]
  },
  {
   "cell_type": "markdown",
   "id": "cece2e80",
   "metadata": {},
   "source": [
    "(83)Explain Exception handling? What is an Error in Python?\n"
   ]
  },
  {
   "cell_type": "markdown",
   "id": "ac84b8af",
   "metadata": {},
   "source": [
    "-> exception handling is like a safety net for your code.it catches errors that happen while your program is running so your program doesn't crash.\n",
    "\n",
    "Try block: this is where you put the code that might cause an error.\n",
    "Except block:this is where you handle the error if it happens.\n",
    "Finally block:this is code that will run no matter what,whether there are an error or not\n",
    "Else block:this is code that will run if there are no errors.\n",
    "\n",
    "\n",
    "##Error in python:\n",
    "Syntax error: there are mistakes in your code's\n",
    "Exception:there are errors that happen while your program is running"
   ]
  },
  {
   "cell_type": "markdown",
   "id": "05724a84",
   "metadata": {},
   "source": [
    "(84)How many except statements can a try-except block have? Name\n",
    "Some built-in exception classes:"
   ]
  },
  {
   "cell_type": "markdown",
   "id": "073e9433",
   "metadata": {},
   "source": [
    "Number of except Statement:\n",
    "                A try-except block in python can have multiple except statements to handle different types of exception.\n",
    "Built-in exception classes:\n",
    "\n",
    "1.Exception:the base class for all exceptions.\n",
    "\n",
    "2.ArithmetricError:the base class for error occurring during numeric calculations.\n",
    "\n",
    "3.ZeroDivisionError:Raise when division by zero occurs.\n",
    "\n",
    "4.ValueError:raised when a function receives an argument of the correct type but an inappropriate value\n",
    "\n",
    "5.TypeError: raised when an operation or function is applied to an object of inappropriate type.\n",
    "\n",
    "6.KeyError: raised when a dictionary key is not found\n"
   ]
  },
  {
   "cell_type": "markdown",
   "id": "5fd83dfd",
   "metadata": {},
   "source": [
    "(85) when will the else part of try-except-else be executed?"
   ]
  },
  {
   "cell_type": "code",
   "execution_count": null,
   "id": "e081b25d",
   "metadata": {},
   "outputs": [
    {
     "name": "stdout",
     "output_type": "stream",
     "text": [
      "enter a num:5\n",
      "result is2.0.\n",
      "execution of the'finally'block.\n"
     ]
    }
   ],
   "source": [
    "try:\n",
    "  num=int(input(\"enter a num:\"))\n",
    "  result=10/num\n",
    "except ValueError:\n",
    "  print(\"ValueError:please enter a valid integer.\")\n",
    "except ZeroDivisionError:\n",
    "  print(\"ZeroDivisionError:Division by zero is not allowed.\")\n",
    "else:\n",
    "  print(f\"result is{result}.\")\n",
    "finally:\n",
    "  print(\"execution of the'finally'block.\")\n"
   ]
  },
  {
   "cell_type": "markdown",
   "id": "d10bf56f",
   "metadata": {},
   "source": [
    "(86)Can one block of except statements handle multiple exception?\n"
   ]
  },
  {
   "cell_type": "markdown",
   "id": "59ee73b1",
   "metadata": {},
   "source": [
    "--> Yes, a singh except block can handle multiple exceptions in python"
   ]
  },
  {
   "cell_type": "code",
   "execution_count": null,
   "id": "e822eac8",
   "metadata": {},
   "outputs": [
    {
     "name": "stdout",
     "output_type": "stream",
     "text": [
      "enter a number54\n"
     ]
    }
   ],
   "source": [
    "try:\n",
    "  #code that might raise exceptions\n",
    "  result=10/int(input(\"enter a number\"))\n",
    "except(ValueError,ZeroDivisionError) as e:\n",
    "  print(f\"an error occurred:{e}\")"
   ]
  },
  {
   "cell_type": "markdown",
   "id": "0650e741",
   "metadata": {},
   "source": [
    "(87) when is the finally block executed?"
   ]
  },
  {
   "cell_type": "markdown",
   "id": "fe558610",
   "metadata": {},
   "source": [
    "-->the finally block is always executed,whether an exception occurs or not"
   ]
  },
  {
   "cell_type": "code",
   "execution_count": null,
   "id": "6cfc36ab",
   "metadata": {},
   "outputs": [
    {
     "name": "stdout",
     "output_type": "stream",
     "text": [
      "enter a num:45\n",
      "result:0.2222222222222222\n",
      "this message always prints,no matter what.\n"
     ]
    }
   ],
   "source": [
    "try:\n",
    "   num=int(input(\"enter a num:\"))\n",
    "   result=10/num\n",
    "   print(f\"result:{result}\")\n",
    "except ZeroDivisionError:\n",
    "   print(\"error:division by zero.\")\n",
    "except ValueError:\n",
    "   print(\"error:invalid value.\")\n",
    "finally:\n",
    "   print(\"this message always prints,no matter what.\")\n",
    "\n",
    "\n"
   ]
  },
  {
   "cell_type": "markdown",
   "id": "8667fadf",
   "metadata": {},
   "source": [
    "(88)what happens when,,l\"==l is executed?"
   ]
  },
  {
   "cell_type": "markdown",
   "id": "743d9040",
   "metadata": {},
   "source": [
    "-->when\"l\"==\"l\" is executed in python, it evaluates whether the string on the left side(\"l\") is equal to the string on the right side(\"l\").since both string are identical,the expression will evaluate to True"
   ]
  },
  {
   "cell_type": "code",
   "execution_count": null,
   "id": "c05def45",
   "metadata": {},
   "outputs": [
    {
     "name": "stdout",
     "output_type": "stream",
     "text": [
      "True\n"
     ]
    }
   ],
   "source": [
    "result=\"l\"==\"l\"\n",
    "print(result)"
   ]
  },
  {
   "cell_type": "markdown",
   "id": "06f0d62e",
   "metadata": {},
   "source": [
    "(89) how do you handle exceptions with try/except/finally in python?"
   ]
  },
  {
   "cell_type": "code",
   "execution_count": null,
   "id": "0c9392e7",
   "metadata": {},
   "outputs": [
    {
     "name": "stdout",
     "output_type": "stream",
     "text": [
      "enter a num:5\n",
      "result:2.0\n",
      "execution of the 'finally'block.\n",
      "program continues...\n"
     ]
    }
   ],
   "source": [
    "try:\n",
    "  num=int(input(\"enter a num:\"))\n",
    "  result=10/num\n",
    "  print(f\"result:{result}\")\n",
    "except ValueError as ve:\n",
    "  print(f\"ValueError occurred:{ve}\")\n",
    "except ZeroDivisionError as zde:\n",
    "  print(f\"ZeroDivisionError occurred:{zde}\")\n",
    "finally:\n",
    "  print(\"execution of the 'finally'block.\")\n",
    "print(\"program continues...\")"
   ]
  },
  {
   "cell_type": "markdown",
   "id": "ff26ddf6",
   "metadata": {},
   "source": [
    "(90)write python program that user to enter only odd numbers,else will raise an exception"
   ]
  },
  {
   "cell_type": "code",
   "execution_count": null,
   "id": "bea349a1",
   "metadata": {},
   "outputs": [
    {
     "name": "stdout",
     "output_type": "stream",
     "text": [
      "enter an odd number:54\n",
      "54is not an odd number.\n"
     ]
    }
   ],
   "source": [
    "class EvenNumberException(Exception):\n",
    "  pass\n",
    "def get_odd_number():\n",
    "  try:\n",
    "     number=int(input(\"enter an odd number:\"))\n",
    "     if number%2==0:\n",
    "       raise EvenNumberException(f\"{number}is not an odd number.\")\n",
    "     print(f\"thank you!{number} is an odd number.\")\n",
    "  except EvenNumberException as e:\n",
    "    print(e)\n",
    "  except ValueError:\n",
    "    print(\"invalid input! please enter an integer.\")\n",
    "\n",
    "get_odd_number()"
   ]
  }
 ],
 "metadata": {
  "kernelspec": {
   "display_name": "Python 3",
   "language": "python",
   "name": "python3"
  },
  "language_info": {
   "codemirror_mode": {
    "name": "ipython",
    "version": 3
   },
   "file_extension": ".py",
   "mimetype": "text/x-python",
   "name": "python",
   "nbconvert_exporter": "python",
   "pygments_lexer": "ipython3",
   "version": "3.13.2"
  }
 },
 "nbformat": 4,
 "nbformat_minor": 5
}
